{
 "cells": [
  {
   "cell_type": "markdown",
   "metadata": {},
   "source": [
    "#### A time series is a set of observation taken at sepcified times usually at equal intervas\n",
    "#### Use history to predict \n",
    "\n",
    "(forcast, plan, analyize, evaluate )\n",
    "\n",
    "\n",
    "Compenent of time series: Trend, Seasonality, Irregularity, Cyclic\n",
    "This cannot be used with constant values or function-based (just compute)\n",
    "\n",
    "What is stationarity: any type of stat model, data must be stationary. TS has a particular behaviro over time that help to follow the same in future. To accomplish this (constant mean, variance, autocovariance not depend on time) can test stationarity with rolling(mocing average with mocing variace) statistics and ADCF(stats test)\n",
    "\n",
    "\n",
    "#### ARIMA MODEL\n",
    "\n",
    "AR + MA: Auto regressive + Moving average \n",
    "\n",
    "AR:Correlation between pervious to current (autoregressive lags P) figure out the noise \n",
    "MA: Q:moving average\n",
    "bounded by integration d: degree if differentiation\n",
    "\n"
   ]
  }
 ],
 "metadata": {
  "kernelspec": {
   "display_name": "Python 3",
   "language": "python",
   "name": "python3"
  },
  "language_info": {
   "codemirror_mode": {
    "name": "ipython",
    "version": 3
   },
   "file_extension": ".py",
   "mimetype": "text/x-python",
   "name": "python",
   "nbconvert_exporter": "python",
   "pygments_lexer": "ipython3",
   "version": "3.7.6"
  }
 },
 "nbformat": 4,
 "nbformat_minor": 4
}
