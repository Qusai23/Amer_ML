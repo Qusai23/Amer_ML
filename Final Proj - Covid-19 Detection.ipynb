{
  "nbformat": 4,
  "nbformat_minor": 0,
  "metadata": {
    "colab": {
      "name": "Copy of FINAL",
      "provenance": [],
      "collapsed_sections": [],
      "include_colab_link": true
    },
    "kernelspec": {
      "name": "python3",
      "display_name": "Python 3"
    },
    "accelerator": "GPU",
    "widgets": {
      "application/vnd.jupyter.widget-state+json": {
        "4e395e06a8b649a3982d30b5f24d3678": {
          "model_module": "@jupyter-widgets/controls",
          "model_name": "HBoxModel",
          "state": {
            "_view_name": "HBoxView",
            "_dom_classes": [],
            "_model_name": "HBoxModel",
            "_view_module": "@jupyter-widgets/controls",
            "_model_module_version": "1.5.0",
            "_view_count": null,
            "_view_module_version": "1.5.0",
            "box_style": "",
            "layout": "IPY_MODEL_6f00a337486d401bbc1c024bc3ad0a85",
            "_model_module": "@jupyter-widgets/controls",
            "children": [
              "IPY_MODEL_777a607c54d44f39a983375e45fbbb65",
              "IPY_MODEL_c120e940c5ea40649f80d2f5b665415d"
            ]
          }
        },
        "6f00a337486d401bbc1c024bc3ad0a85": {
          "model_module": "@jupyter-widgets/base",
          "model_name": "LayoutModel",
          "state": {
            "_view_name": "LayoutView",
            "grid_template_rows": null,
            "right": null,
            "justify_content": null,
            "_view_module": "@jupyter-widgets/base",
            "overflow": null,
            "_model_module_version": "1.2.0",
            "_view_count": null,
            "flex_flow": null,
            "width": null,
            "min_width": null,
            "border": null,
            "align_items": null,
            "bottom": null,
            "_model_module": "@jupyter-widgets/base",
            "top": null,
            "grid_column": null,
            "overflow_y": null,
            "overflow_x": null,
            "grid_auto_flow": null,
            "grid_area": null,
            "grid_template_columns": null,
            "flex": null,
            "_model_name": "LayoutModel",
            "justify_items": null,
            "grid_row": null,
            "max_height": null,
            "align_content": null,
            "visibility": null,
            "align_self": null,
            "height": null,
            "min_height": null,
            "padding": null,
            "grid_auto_rows": null,
            "grid_gap": null,
            "max_width": null,
            "order": null,
            "_view_module_version": "1.2.0",
            "grid_template_areas": null,
            "object_position": null,
            "object_fit": null,
            "grid_auto_columns": null,
            "margin": null,
            "display": null,
            "left": null
          }
        },
        "777a607c54d44f39a983375e45fbbb65": {
          "model_module": "@jupyter-widgets/controls",
          "model_name": "FloatProgressModel",
          "state": {
            "_view_name": "ProgressView",
            "style": "IPY_MODEL_2522f7300752414e920a137e131cb8e0",
            "_dom_classes": [],
            "description": "100%",
            "_model_name": "FloatProgressModel",
            "bar_style": "success",
            "max": 250,
            "_view_module": "@jupyter-widgets/controls",
            "_model_module_version": "1.5.0",
            "value": 250,
            "_view_count": null,
            "_view_module_version": "1.5.0",
            "orientation": "horizontal",
            "min": 0,
            "description_tooltip": null,
            "_model_module": "@jupyter-widgets/controls",
            "layout": "IPY_MODEL_252c34453f7846eab06f17b115caf202"
          }
        },
        "c120e940c5ea40649f80d2f5b665415d": {
          "model_module": "@jupyter-widgets/controls",
          "model_name": "HTMLModel",
          "state": {
            "_view_name": "HTMLView",
            "style": "IPY_MODEL_04100a60bf75490c844e329f469e9d14",
            "_dom_classes": [],
            "description": "",
            "_model_name": "HTMLModel",
            "placeholder": "​",
            "_view_module": "@jupyter-widgets/controls",
            "_model_module_version": "1.5.0",
            "value": " 250/250 [06:49&lt;00:00,  1.64s/it]",
            "_view_count": null,
            "_view_module_version": "1.5.0",
            "description_tooltip": null,
            "_model_module": "@jupyter-widgets/controls",
            "layout": "IPY_MODEL_59d9471d8de347fc89099d51f28e9164"
          }
        },
        "2522f7300752414e920a137e131cb8e0": {
          "model_module": "@jupyter-widgets/controls",
          "model_name": "ProgressStyleModel",
          "state": {
            "_view_name": "StyleView",
            "_model_name": "ProgressStyleModel",
            "description_width": "initial",
            "_view_module": "@jupyter-widgets/base",
            "_model_module_version": "1.5.0",
            "_view_count": null,
            "_view_module_version": "1.2.0",
            "bar_color": null,
            "_model_module": "@jupyter-widgets/controls"
          }
        },
        "252c34453f7846eab06f17b115caf202": {
          "model_module": "@jupyter-widgets/base",
          "model_name": "LayoutModel",
          "state": {
            "_view_name": "LayoutView",
            "grid_template_rows": null,
            "right": null,
            "justify_content": null,
            "_view_module": "@jupyter-widgets/base",
            "overflow": null,
            "_model_module_version": "1.2.0",
            "_view_count": null,
            "flex_flow": null,
            "width": null,
            "min_width": null,
            "border": null,
            "align_items": null,
            "bottom": null,
            "_model_module": "@jupyter-widgets/base",
            "top": null,
            "grid_column": null,
            "overflow_y": null,
            "overflow_x": null,
            "grid_auto_flow": null,
            "grid_area": null,
            "grid_template_columns": null,
            "flex": null,
            "_model_name": "LayoutModel",
            "justify_items": null,
            "grid_row": null,
            "max_height": null,
            "align_content": null,
            "visibility": null,
            "align_self": null,
            "height": null,
            "min_height": null,
            "padding": null,
            "grid_auto_rows": null,
            "grid_gap": null,
            "max_width": null,
            "order": null,
            "_view_module_version": "1.2.0",
            "grid_template_areas": null,
            "object_position": null,
            "object_fit": null,
            "grid_auto_columns": null,
            "margin": null,
            "display": null,
            "left": null
          }
        },
        "04100a60bf75490c844e329f469e9d14": {
          "model_module": "@jupyter-widgets/controls",
          "model_name": "DescriptionStyleModel",
          "state": {
            "_view_name": "StyleView",
            "_model_name": "DescriptionStyleModel",
            "description_width": "",
            "_view_module": "@jupyter-widgets/base",
            "_model_module_version": "1.5.0",
            "_view_count": null,
            "_view_module_version": "1.2.0",
            "_model_module": "@jupyter-widgets/controls"
          }
        },
        "59d9471d8de347fc89099d51f28e9164": {
          "model_module": "@jupyter-widgets/base",
          "model_name": "LayoutModel",
          "state": {
            "_view_name": "LayoutView",
            "grid_template_rows": null,
            "right": null,
            "justify_content": null,
            "_view_module": "@jupyter-widgets/base",
            "overflow": null,
            "_model_module_version": "1.2.0",
            "_view_count": null,
            "flex_flow": null,
            "width": null,
            "min_width": null,
            "border": null,
            "align_items": null,
            "bottom": null,
            "_model_module": "@jupyter-widgets/base",
            "top": null,
            "grid_column": null,
            "overflow_y": null,
            "overflow_x": null,
            "grid_auto_flow": null,
            "grid_area": null,
            "grid_template_columns": null,
            "flex": null,
            "_model_name": "LayoutModel",
            "justify_items": null,
            "grid_row": null,
            "max_height": null,
            "align_content": null,
            "visibility": null,
            "align_self": null,
            "height": null,
            "min_height": null,
            "padding": null,
            "grid_auto_rows": null,
            "grid_gap": null,
            "max_width": null,
            "order": null,
            "_view_module_version": "1.2.0",
            "grid_template_areas": null,
            "object_position": null,
            "object_fit": null,
            "grid_auto_columns": null,
            "margin": null,
            "display": null,
            "left": null
          }
        },
        "20480f6f16064cae86e501eeda628b14": {
          "model_module": "@jupyter-widgets/controls",
          "model_name": "HBoxModel",
          "state": {
            "_view_name": "HBoxView",
            "_dom_classes": [],
            "_model_name": "HBoxModel",
            "_view_module": "@jupyter-widgets/controls",
            "_model_module_version": "1.5.0",
            "_view_count": null,
            "_view_module_version": "1.5.0",
            "box_style": "",
            "layout": "IPY_MODEL_a5953fdda77c4cc5a68f89ca9ac38bd9",
            "_model_module": "@jupyter-widgets/controls",
            "children": [
              "IPY_MODEL_ae83ec3b1fcd4355a3b81dc72fb1dfb9",
              "IPY_MODEL_5240a23ae49d444d9bd9a293b38c5b75"
            ]
          }
        },
        "a5953fdda77c4cc5a68f89ca9ac38bd9": {
          "model_module": "@jupyter-widgets/base",
          "model_name": "LayoutModel",
          "state": {
            "_view_name": "LayoutView",
            "grid_template_rows": null,
            "right": null,
            "justify_content": null,
            "_view_module": "@jupyter-widgets/base",
            "overflow": null,
            "_model_module_version": "1.2.0",
            "_view_count": null,
            "flex_flow": null,
            "width": null,
            "min_width": null,
            "border": null,
            "align_items": null,
            "bottom": null,
            "_model_module": "@jupyter-widgets/base",
            "top": null,
            "grid_column": null,
            "overflow_y": null,
            "overflow_x": null,
            "grid_auto_flow": null,
            "grid_area": null,
            "grid_template_columns": null,
            "flex": null,
            "_model_name": "LayoutModel",
            "justify_items": null,
            "grid_row": null,
            "max_height": null,
            "align_content": null,
            "visibility": null,
            "align_self": null,
            "height": null,
            "min_height": null,
            "padding": null,
            "grid_auto_rows": null,
            "grid_gap": null,
            "max_width": null,
            "order": null,
            "_view_module_version": "1.2.0",
            "grid_template_areas": null,
            "object_position": null,
            "object_fit": null,
            "grid_auto_columns": null,
            "margin": null,
            "display": null,
            "left": null
          }
        },
        "ae83ec3b1fcd4355a3b81dc72fb1dfb9": {
          "model_module": "@jupyter-widgets/controls",
          "model_name": "FloatProgressModel",
          "state": {
            "_view_name": "ProgressView",
            "style": "IPY_MODEL_7870e2cfaf3c4f0bb332bed3834f6b98",
            "_dom_classes": [],
            "description": "100%",
            "_model_name": "FloatProgressModel",
            "bar_style": "success",
            "max": 94,
            "_view_module": "@jupyter-widgets/controls",
            "_model_module_version": "1.5.0",
            "value": 94,
            "_view_count": null,
            "_view_module_version": "1.5.0",
            "orientation": "horizontal",
            "min": 0,
            "description_tooltip": null,
            "_model_module": "@jupyter-widgets/controls",
            "layout": "IPY_MODEL_4b01f3735a8547788aa66f541f4657ff"
          }
        },
        "5240a23ae49d444d9bd9a293b38c5b75": {
          "model_module": "@jupyter-widgets/controls",
          "model_name": "HTMLModel",
          "state": {
            "_view_name": "HTMLView",
            "style": "IPY_MODEL_79032100b22046a58a15e6ebd78a7063",
            "_dom_classes": [],
            "description": "",
            "_model_name": "HTMLModel",
            "placeholder": "​",
            "_view_module": "@jupyter-widgets/controls",
            "_model_module_version": "1.5.0",
            "value": " 94/94 [03:24&lt;00:00,  2.17s/it]",
            "_view_count": null,
            "_view_module_version": "1.5.0",
            "description_tooltip": null,
            "_model_module": "@jupyter-widgets/controls",
            "layout": "IPY_MODEL_fbdd7d75a552403e90c635453b19baf9"
          }
        },
        "7870e2cfaf3c4f0bb332bed3834f6b98": {
          "model_module": "@jupyter-widgets/controls",
          "model_name": "ProgressStyleModel",
          "state": {
            "_view_name": "StyleView",
            "_model_name": "ProgressStyleModel",
            "description_width": "initial",
            "_view_module": "@jupyter-widgets/base",
            "_model_module_version": "1.5.0",
            "_view_count": null,
            "_view_module_version": "1.2.0",
            "bar_color": null,
            "_model_module": "@jupyter-widgets/controls"
          }
        },
        "4b01f3735a8547788aa66f541f4657ff": {
          "model_module": "@jupyter-widgets/base",
          "model_name": "LayoutModel",
          "state": {
            "_view_name": "LayoutView",
            "grid_template_rows": null,
            "right": null,
            "justify_content": null,
            "_view_module": "@jupyter-widgets/base",
            "overflow": null,
            "_model_module_version": "1.2.0",
            "_view_count": null,
            "flex_flow": null,
            "width": null,
            "min_width": null,
            "border": null,
            "align_items": null,
            "bottom": null,
            "_model_module": "@jupyter-widgets/base",
            "top": null,
            "grid_column": null,
            "overflow_y": null,
            "overflow_x": null,
            "grid_auto_flow": null,
            "grid_area": null,
            "grid_template_columns": null,
            "flex": null,
            "_model_name": "LayoutModel",
            "justify_items": null,
            "grid_row": null,
            "max_height": null,
            "align_content": null,
            "visibility": null,
            "align_self": null,
            "height": null,
            "min_height": null,
            "padding": null,
            "grid_auto_rows": null,
            "grid_gap": null,
            "max_width": null,
            "order": null,
            "_view_module_version": "1.2.0",
            "grid_template_areas": null,
            "object_position": null,
            "object_fit": null,
            "grid_auto_columns": null,
            "margin": null,
            "display": null,
            "left": null
          }
        },
        "79032100b22046a58a15e6ebd78a7063": {
          "model_module": "@jupyter-widgets/controls",
          "model_name": "DescriptionStyleModel",
          "state": {
            "_view_name": "StyleView",
            "_model_name": "DescriptionStyleModel",
            "description_width": "",
            "_view_module": "@jupyter-widgets/base",
            "_model_module_version": "1.5.0",
            "_view_count": null,
            "_view_module_version": "1.2.0",
            "_model_module": "@jupyter-widgets/controls"
          }
        },
        "fbdd7d75a552403e90c635453b19baf9": {
          "model_module": "@jupyter-widgets/base",
          "model_name": "LayoutModel",
          "state": {
            "_view_name": "LayoutView",
            "grid_template_rows": null,
            "right": null,
            "justify_content": null,
            "_view_module": "@jupyter-widgets/base",
            "overflow": null,
            "_model_module_version": "1.2.0",
            "_view_count": null,
            "flex_flow": null,
            "width": null,
            "min_width": null,
            "border": null,
            "align_items": null,
            "bottom": null,
            "_model_module": "@jupyter-widgets/base",
            "top": null,
            "grid_column": null,
            "overflow_y": null,
            "overflow_x": null,
            "grid_auto_flow": null,
            "grid_area": null,
            "grid_template_columns": null,
            "flex": null,
            "_model_name": "LayoutModel",
            "justify_items": null,
            "grid_row": null,
            "max_height": null,
            "align_content": null,
            "visibility": null,
            "align_self": null,
            "height": null,
            "min_height": null,
            "padding": null,
            "grid_auto_rows": null,
            "grid_gap": null,
            "max_width": null,
            "order": null,
            "_view_module_version": "1.2.0",
            "grid_template_areas": null,
            "object_position": null,
            "object_fit": null,
            "grid_auto_columns": null,
            "margin": null,
            "display": null,
            "left": null
          }
        },
        "bea6c973aeaf407981b0d05555c1ffd1": {
          "model_module": "@jupyter-widgets/controls",
          "model_name": "HBoxModel",
          "state": {
            "_view_name": "HBoxView",
            "_dom_classes": [],
            "_model_name": "HBoxModel",
            "_view_module": "@jupyter-widgets/controls",
            "_model_module_version": "1.5.0",
            "_view_count": null,
            "_view_module_version": "1.5.0",
            "box_style": "",
            "layout": "IPY_MODEL_0a51e157471548a39b9d354a28e37116",
            "_model_module": "@jupyter-widgets/controls",
            "children": [
              "IPY_MODEL_45383d9d99e74e8780d487b139a09962",
              "IPY_MODEL_621b0a1cab73432492d593570923c273"
            ]
          }
        },
        "0a51e157471548a39b9d354a28e37116": {
          "model_module": "@jupyter-widgets/base",
          "model_name": "LayoutModel",
          "state": {
            "_view_name": "LayoutView",
            "grid_template_rows": null,
            "right": null,
            "justify_content": null,
            "_view_module": "@jupyter-widgets/base",
            "overflow": null,
            "_model_module_version": "1.2.0",
            "_view_count": null,
            "flex_flow": null,
            "width": null,
            "min_width": null,
            "border": null,
            "align_items": null,
            "bottom": null,
            "_model_module": "@jupyter-widgets/base",
            "top": null,
            "grid_column": null,
            "overflow_y": null,
            "overflow_x": null,
            "grid_auto_flow": null,
            "grid_area": null,
            "grid_template_columns": null,
            "flex": null,
            "_model_name": "LayoutModel",
            "justify_items": null,
            "grid_row": null,
            "max_height": null,
            "align_content": null,
            "visibility": null,
            "align_self": null,
            "height": null,
            "min_height": null,
            "padding": null,
            "grid_auto_rows": null,
            "grid_gap": null,
            "max_width": null,
            "order": null,
            "_view_module_version": "1.2.0",
            "grid_template_areas": null,
            "object_position": null,
            "object_fit": null,
            "grid_auto_columns": null,
            "margin": null,
            "display": null,
            "left": null
          }
        },
        "45383d9d99e74e8780d487b139a09962": {
          "model_module": "@jupyter-widgets/controls",
          "model_name": "FloatProgressModel",
          "state": {
            "_view_name": "ProgressView",
            "style": "IPY_MODEL_7209bde91082410097ccb72e86c19e68",
            "_dom_classes": [],
            "description": "100%",
            "_model_name": "FloatProgressModel",
            "bar_style": "success",
            "max": 250,
            "_view_module": "@jupyter-widgets/controls",
            "_model_module_version": "1.5.0",
            "value": 250,
            "_view_count": null,
            "_view_module_version": "1.5.0",
            "orientation": "horizontal",
            "min": 0,
            "description_tooltip": null,
            "_model_module": "@jupyter-widgets/controls",
            "layout": "IPY_MODEL_e5d05b7f44d84a7c9d2fb68aece3241a"
          }
        },
        "621b0a1cab73432492d593570923c273": {
          "model_module": "@jupyter-widgets/controls",
          "model_name": "HTMLModel",
          "state": {
            "_view_name": "HTMLView",
            "style": "IPY_MODEL_79d6499ecad540cd8787b39e7d7d35f4",
            "_dom_classes": [],
            "description": "",
            "_model_name": "HTMLModel",
            "placeholder": "​",
            "_view_module": "@jupyter-widgets/controls",
            "_model_module_version": "1.5.0",
            "value": " 250/250 [02:09&lt;00:00,  1.93it/s]",
            "_view_count": null,
            "_view_module_version": "1.5.0",
            "description_tooltip": null,
            "_model_module": "@jupyter-widgets/controls",
            "layout": "IPY_MODEL_8cd17c66e4c84878a5a1cce262bcc88b"
          }
        },
        "7209bde91082410097ccb72e86c19e68": {
          "model_module": "@jupyter-widgets/controls",
          "model_name": "ProgressStyleModel",
          "state": {
            "_view_name": "StyleView",
            "_model_name": "ProgressStyleModel",
            "description_width": "initial",
            "_view_module": "@jupyter-widgets/base",
            "_model_module_version": "1.5.0",
            "_view_count": null,
            "_view_module_version": "1.2.0",
            "bar_color": null,
            "_model_module": "@jupyter-widgets/controls"
          }
        },
        "e5d05b7f44d84a7c9d2fb68aece3241a": {
          "model_module": "@jupyter-widgets/base",
          "model_name": "LayoutModel",
          "state": {
            "_view_name": "LayoutView",
            "grid_template_rows": null,
            "right": null,
            "justify_content": null,
            "_view_module": "@jupyter-widgets/base",
            "overflow": null,
            "_model_module_version": "1.2.0",
            "_view_count": null,
            "flex_flow": null,
            "width": null,
            "min_width": null,
            "border": null,
            "align_items": null,
            "bottom": null,
            "_model_module": "@jupyter-widgets/base",
            "top": null,
            "grid_column": null,
            "overflow_y": null,
            "overflow_x": null,
            "grid_auto_flow": null,
            "grid_area": null,
            "grid_template_columns": null,
            "flex": null,
            "_model_name": "LayoutModel",
            "justify_items": null,
            "grid_row": null,
            "max_height": null,
            "align_content": null,
            "visibility": null,
            "align_self": null,
            "height": null,
            "min_height": null,
            "padding": null,
            "grid_auto_rows": null,
            "grid_gap": null,
            "max_width": null,
            "order": null,
            "_view_module_version": "1.2.0",
            "grid_template_areas": null,
            "object_position": null,
            "object_fit": null,
            "grid_auto_columns": null,
            "margin": null,
            "display": null,
            "left": null
          }
        },
        "79d6499ecad540cd8787b39e7d7d35f4": {
          "model_module": "@jupyter-widgets/controls",
          "model_name": "DescriptionStyleModel",
          "state": {
            "_view_name": "StyleView",
            "_model_name": "DescriptionStyleModel",
            "description_width": "",
            "_view_module": "@jupyter-widgets/base",
            "_model_module_version": "1.5.0",
            "_view_count": null,
            "_view_module_version": "1.2.0",
            "_model_module": "@jupyter-widgets/controls"
          }
        },
        "8cd17c66e4c84878a5a1cce262bcc88b": {
          "model_module": "@jupyter-widgets/base",
          "model_name": "LayoutModel",
          "state": {
            "_view_name": "LayoutView",
            "grid_template_rows": null,
            "right": null,
            "justify_content": null,
            "_view_module": "@jupyter-widgets/base",
            "overflow": null,
            "_model_module_version": "1.2.0",
            "_view_count": null,
            "flex_flow": null,
            "width": null,
            "min_width": null,
            "border": null,
            "align_items": null,
            "bottom": null,
            "_model_module": "@jupyter-widgets/base",
            "top": null,
            "grid_column": null,
            "overflow_y": null,
            "overflow_x": null,
            "grid_auto_flow": null,
            "grid_area": null,
            "grid_template_columns": null,
            "flex": null,
            "_model_name": "LayoutModel",
            "justify_items": null,
            "grid_row": null,
            "max_height": null,
            "align_content": null,
            "visibility": null,
            "align_self": null,
            "height": null,
            "min_height": null,
            "padding": null,
            "grid_auto_rows": null,
            "grid_gap": null,
            "max_width": null,
            "order": null,
            "_view_module_version": "1.2.0",
            "grid_template_areas": null,
            "object_position": null,
            "object_fit": null,
            "grid_auto_columns": null,
            "margin": null,
            "display": null,
            "left": null
          }
        },
        "7098e668553c48c19c95cb358420cd19": {
          "model_module": "@jupyter-widgets/controls",
          "model_name": "HBoxModel",
          "state": {
            "_view_name": "HBoxView",
            "_dom_classes": [],
            "_model_name": "HBoxModel",
            "_view_module": "@jupyter-widgets/controls",
            "_model_module_version": "1.5.0",
            "_view_count": null,
            "_view_module_version": "1.5.0",
            "box_style": "",
            "layout": "IPY_MODEL_a7ed73e317894281a70620d27bc33d37",
            "_model_module": "@jupyter-widgets/controls",
            "children": [
              "IPY_MODEL_fa62b6a6c3da4c8d95c197937cf7cd22",
              "IPY_MODEL_98fee2c394154867809f0f7f93a09061"
            ]
          }
        },
        "a7ed73e317894281a70620d27bc33d37": {
          "model_module": "@jupyter-widgets/base",
          "model_name": "LayoutModel",
          "state": {
            "_view_name": "LayoutView",
            "grid_template_rows": null,
            "right": null,
            "justify_content": null,
            "_view_module": "@jupyter-widgets/base",
            "overflow": null,
            "_model_module_version": "1.2.0",
            "_view_count": null,
            "flex_flow": null,
            "width": null,
            "min_width": null,
            "border": null,
            "align_items": null,
            "bottom": null,
            "_model_module": "@jupyter-widgets/base",
            "top": null,
            "grid_column": null,
            "overflow_y": null,
            "overflow_x": null,
            "grid_auto_flow": null,
            "grid_area": null,
            "grid_template_columns": null,
            "flex": null,
            "_model_name": "LayoutModel",
            "justify_items": null,
            "grid_row": null,
            "max_height": null,
            "align_content": null,
            "visibility": null,
            "align_self": null,
            "height": null,
            "min_height": null,
            "padding": null,
            "grid_auto_rows": null,
            "grid_gap": null,
            "max_width": null,
            "order": null,
            "_view_module_version": "1.2.0",
            "grid_template_areas": null,
            "object_position": null,
            "object_fit": null,
            "grid_auto_columns": null,
            "margin": null,
            "display": null,
            "left": null
          }
        },
        "fa62b6a6c3da4c8d95c197937cf7cd22": {
          "model_module": "@jupyter-widgets/controls",
          "model_name": "FloatProgressModel",
          "state": {
            "_view_name": "ProgressView",
            "style": "IPY_MODEL_5e565dd8df70480ba392e2d07bd76265",
            "_dom_classes": [],
            "description": "100%",
            "_model_name": "FloatProgressModel",
            "bar_style": "success",
            "max": 94,
            "_view_module": "@jupyter-widgets/controls",
            "_model_module_version": "1.5.0",
            "value": 94,
            "_view_count": null,
            "_view_module_version": "1.5.0",
            "orientation": "horizontal",
            "min": 0,
            "description_tooltip": null,
            "_model_module": "@jupyter-widgets/controls",
            "layout": "IPY_MODEL_59536aeeb18246558228d149c34864fd"
          }
        },
        "98fee2c394154867809f0f7f93a09061": {
          "model_module": "@jupyter-widgets/controls",
          "model_name": "HTMLModel",
          "state": {
            "_view_name": "HTMLView",
            "style": "IPY_MODEL_5ddfce392d5f42318340d9c4f5fd24a5",
            "_dom_classes": [],
            "description": "",
            "_model_name": "HTMLModel",
            "placeholder": "​",
            "_view_module": "@jupyter-widgets/controls",
            "_model_module_version": "1.5.0",
            "value": " 94/94 [00:35&lt;00:00,  2.67it/s]",
            "_view_count": null,
            "_view_module_version": "1.5.0",
            "description_tooltip": null,
            "_model_module": "@jupyter-widgets/controls",
            "layout": "IPY_MODEL_bfd84d30523a4d29b2885268cc1ed8e9"
          }
        },
        "5e565dd8df70480ba392e2d07bd76265": {
          "model_module": "@jupyter-widgets/controls",
          "model_name": "ProgressStyleModel",
          "state": {
            "_view_name": "StyleView",
            "_model_name": "ProgressStyleModel",
            "description_width": "initial",
            "_view_module": "@jupyter-widgets/base",
            "_model_module_version": "1.5.0",
            "_view_count": null,
            "_view_module_version": "1.2.0",
            "bar_color": null,
            "_model_module": "@jupyter-widgets/controls"
          }
        },
        "59536aeeb18246558228d149c34864fd": {
          "model_module": "@jupyter-widgets/base",
          "model_name": "LayoutModel",
          "state": {
            "_view_name": "LayoutView",
            "grid_template_rows": null,
            "right": null,
            "justify_content": null,
            "_view_module": "@jupyter-widgets/base",
            "overflow": null,
            "_model_module_version": "1.2.0",
            "_view_count": null,
            "flex_flow": null,
            "width": null,
            "min_width": null,
            "border": null,
            "align_items": null,
            "bottom": null,
            "_model_module": "@jupyter-widgets/base",
            "top": null,
            "grid_column": null,
            "overflow_y": null,
            "overflow_x": null,
            "grid_auto_flow": null,
            "grid_area": null,
            "grid_template_columns": null,
            "flex": null,
            "_model_name": "LayoutModel",
            "justify_items": null,
            "grid_row": null,
            "max_height": null,
            "align_content": null,
            "visibility": null,
            "align_self": null,
            "height": null,
            "min_height": null,
            "padding": null,
            "grid_auto_rows": null,
            "grid_gap": null,
            "max_width": null,
            "order": null,
            "_view_module_version": "1.2.0",
            "grid_template_areas": null,
            "object_position": null,
            "object_fit": null,
            "grid_auto_columns": null,
            "margin": null,
            "display": null,
            "left": null
          }
        },
        "5ddfce392d5f42318340d9c4f5fd24a5": {
          "model_module": "@jupyter-widgets/controls",
          "model_name": "DescriptionStyleModel",
          "state": {
            "_view_name": "StyleView",
            "_model_name": "DescriptionStyleModel",
            "description_width": "",
            "_view_module": "@jupyter-widgets/base",
            "_model_module_version": "1.5.0",
            "_view_count": null,
            "_view_module_version": "1.2.0",
            "_model_module": "@jupyter-widgets/controls"
          }
        },
        "bfd84d30523a4d29b2885268cc1ed8e9": {
          "model_module": "@jupyter-widgets/base",
          "model_name": "LayoutModel",
          "state": {
            "_view_name": "LayoutView",
            "grid_template_rows": null,
            "right": null,
            "justify_content": null,
            "_view_module": "@jupyter-widgets/base",
            "overflow": null,
            "_model_module_version": "1.2.0",
            "_view_count": null,
            "flex_flow": null,
            "width": null,
            "min_width": null,
            "border": null,
            "align_items": null,
            "bottom": null,
            "_model_module": "@jupyter-widgets/base",
            "top": null,
            "grid_column": null,
            "overflow_y": null,
            "overflow_x": null,
            "grid_auto_flow": null,
            "grid_area": null,
            "grid_template_columns": null,
            "flex": null,
            "_model_name": "LayoutModel",
            "justify_items": null,
            "grid_row": null,
            "max_height": null,
            "align_content": null,
            "visibility": null,
            "align_self": null,
            "height": null,
            "min_height": null,
            "padding": null,
            "grid_auto_rows": null,
            "grid_gap": null,
            "max_width": null,
            "order": null,
            "_view_module_version": "1.2.0",
            "grid_template_areas": null,
            "object_position": null,
            "object_fit": null,
            "grid_auto_columns": null,
            "margin": null,
            "display": null,
            "left": null
          }
        },
        "4cad481f713345a5bc3b52c66047f333": {
          "model_module": "@jupyter-widgets/controls",
          "model_name": "HBoxModel",
          "state": {
            "_view_name": "HBoxView",
            "_dom_classes": [],
            "_model_name": "HBoxModel",
            "_view_module": "@jupyter-widgets/controls",
            "_model_module_version": "1.5.0",
            "_view_count": null,
            "_view_module_version": "1.5.0",
            "box_style": "",
            "layout": "IPY_MODEL_d9b28aff99ff41fb8f00a2e1314bab48",
            "_model_module": "@jupyter-widgets/controls",
            "children": [
              "IPY_MODEL_8f9f5d3a505e4f4ab391d35534310f08",
              "IPY_MODEL_ba20e0e80926424daba838c8360c173f"
            ]
          }
        },
        "d9b28aff99ff41fb8f00a2e1314bab48": {
          "model_module": "@jupyter-widgets/base",
          "model_name": "LayoutModel",
          "state": {
            "_view_name": "LayoutView",
            "grid_template_rows": null,
            "right": null,
            "justify_content": null,
            "_view_module": "@jupyter-widgets/base",
            "overflow": null,
            "_model_module_version": "1.2.0",
            "_view_count": null,
            "flex_flow": null,
            "width": null,
            "min_width": null,
            "border": null,
            "align_items": null,
            "bottom": null,
            "_model_module": "@jupyter-widgets/base",
            "top": null,
            "grid_column": null,
            "overflow_y": null,
            "overflow_x": null,
            "grid_auto_flow": null,
            "grid_area": null,
            "grid_template_columns": null,
            "flex": null,
            "_model_name": "LayoutModel",
            "justify_items": null,
            "grid_row": null,
            "max_height": null,
            "align_content": null,
            "visibility": null,
            "align_self": null,
            "height": null,
            "min_height": null,
            "padding": null,
            "grid_auto_rows": null,
            "grid_gap": null,
            "max_width": null,
            "order": null,
            "_view_module_version": "1.2.0",
            "grid_template_areas": null,
            "object_position": null,
            "object_fit": null,
            "grid_auto_columns": null,
            "margin": null,
            "display": null,
            "left": null
          }
        },
        "8f9f5d3a505e4f4ab391d35534310f08": {
          "model_module": "@jupyter-widgets/controls",
          "model_name": "FloatProgressModel",
          "state": {
            "_view_name": "ProgressView",
            "style": "IPY_MODEL_54c56dd8436c4f0990a7bd1f52c2fadf",
            "_dom_classes": [],
            "description": "100%",
            "_model_name": "FloatProgressModel",
            "bar_style": "success",
            "max": 250,
            "_view_module": "@jupyter-widgets/controls",
            "_model_module_version": "1.5.0",
            "value": 250,
            "_view_count": null,
            "_view_module_version": "1.5.0",
            "orientation": "horizontal",
            "min": 0,
            "description_tooltip": null,
            "_model_module": "@jupyter-widgets/controls",
            "layout": "IPY_MODEL_84d1e511bd9d4186a6fd2b37fa42c814"
          }
        },
        "ba20e0e80926424daba838c8360c173f": {
          "model_module": "@jupyter-widgets/controls",
          "model_name": "HTMLModel",
          "state": {
            "_view_name": "HTMLView",
            "style": "IPY_MODEL_5ccd9e5cf5874a629df5ddf4a67bcd60",
            "_dom_classes": [],
            "description": "",
            "_model_name": "HTMLModel",
            "placeholder": "​",
            "_view_module": "@jupyter-widgets/controls",
            "_model_module_version": "1.5.0",
            "value": " 250/250 [00:02&lt;00:00, 97.31it/s]",
            "_view_count": null,
            "_view_module_version": "1.5.0",
            "description_tooltip": null,
            "_model_module": "@jupyter-widgets/controls",
            "layout": "IPY_MODEL_64cb81e4cb5b4504ae7015ac95818749"
          }
        },
        "54c56dd8436c4f0990a7bd1f52c2fadf": {
          "model_module": "@jupyter-widgets/controls",
          "model_name": "ProgressStyleModel",
          "state": {
            "_view_name": "StyleView",
            "_model_name": "ProgressStyleModel",
            "description_width": "initial",
            "_view_module": "@jupyter-widgets/base",
            "_model_module_version": "1.5.0",
            "_view_count": null,
            "_view_module_version": "1.2.0",
            "bar_color": null,
            "_model_module": "@jupyter-widgets/controls"
          }
        },
        "84d1e511bd9d4186a6fd2b37fa42c814": {
          "model_module": "@jupyter-widgets/base",
          "model_name": "LayoutModel",
          "state": {
            "_view_name": "LayoutView",
            "grid_template_rows": null,
            "right": null,
            "justify_content": null,
            "_view_module": "@jupyter-widgets/base",
            "overflow": null,
            "_model_module_version": "1.2.0",
            "_view_count": null,
            "flex_flow": null,
            "width": null,
            "min_width": null,
            "border": null,
            "align_items": null,
            "bottom": null,
            "_model_module": "@jupyter-widgets/base",
            "top": null,
            "grid_column": null,
            "overflow_y": null,
            "overflow_x": null,
            "grid_auto_flow": null,
            "grid_area": null,
            "grid_template_columns": null,
            "flex": null,
            "_model_name": "LayoutModel",
            "justify_items": null,
            "grid_row": null,
            "max_height": null,
            "align_content": null,
            "visibility": null,
            "align_self": null,
            "height": null,
            "min_height": null,
            "padding": null,
            "grid_auto_rows": null,
            "grid_gap": null,
            "max_width": null,
            "order": null,
            "_view_module_version": "1.2.0",
            "grid_template_areas": null,
            "object_position": null,
            "object_fit": null,
            "grid_auto_columns": null,
            "margin": null,
            "display": null,
            "left": null
          }
        },
        "5ccd9e5cf5874a629df5ddf4a67bcd60": {
          "model_module": "@jupyter-widgets/controls",
          "model_name": "DescriptionStyleModel",
          "state": {
            "_view_name": "StyleView",
            "_model_name": "DescriptionStyleModel",
            "description_width": "",
            "_view_module": "@jupyter-widgets/base",
            "_model_module_version": "1.5.0",
            "_view_count": null,
            "_view_module_version": "1.2.0",
            "_model_module": "@jupyter-widgets/controls"
          }
        },
        "64cb81e4cb5b4504ae7015ac95818749": {
          "model_module": "@jupyter-widgets/base",
          "model_name": "LayoutModel",
          "state": {
            "_view_name": "LayoutView",
            "grid_template_rows": null,
            "right": null,
            "justify_content": null,
            "_view_module": "@jupyter-widgets/base",
            "overflow": null,
            "_model_module_version": "1.2.0",
            "_view_count": null,
            "flex_flow": null,
            "width": null,
            "min_width": null,
            "border": null,
            "align_items": null,
            "bottom": null,
            "_model_module": "@jupyter-widgets/base",
            "top": null,
            "grid_column": null,
            "overflow_y": null,
            "overflow_x": null,
            "grid_auto_flow": null,
            "grid_area": null,
            "grid_template_columns": null,
            "flex": null,
            "_model_name": "LayoutModel",
            "justify_items": null,
            "grid_row": null,
            "max_height": null,
            "align_content": null,
            "visibility": null,
            "align_self": null,
            "height": null,
            "min_height": null,
            "padding": null,
            "grid_auto_rows": null,
            "grid_gap": null,
            "max_width": null,
            "order": null,
            "_view_module_version": "1.2.0",
            "grid_template_areas": null,
            "object_position": null,
            "object_fit": null,
            "grid_auto_columns": null,
            "margin": null,
            "display": null,
            "left": null
          }
        },
        "77b2c694be45424eb90be2e245956321": {
          "model_module": "@jupyter-widgets/controls",
          "model_name": "HBoxModel",
          "state": {
            "_view_name": "HBoxView",
            "_dom_classes": [],
            "_model_name": "HBoxModel",
            "_view_module": "@jupyter-widgets/controls",
            "_model_module_version": "1.5.0",
            "_view_count": null,
            "_view_module_version": "1.5.0",
            "box_style": "",
            "layout": "IPY_MODEL_8961aadf5a0f42d3b5c6eb34a3cd8aef",
            "_model_module": "@jupyter-widgets/controls",
            "children": [
              "IPY_MODEL_fc57e8100e72402d877b130377bbb6fd",
              "IPY_MODEL_fb1524ad9cc84e0ea20b5b83353c1ad6"
            ]
          }
        },
        "8961aadf5a0f42d3b5c6eb34a3cd8aef": {
          "model_module": "@jupyter-widgets/base",
          "model_name": "LayoutModel",
          "state": {
            "_view_name": "LayoutView",
            "grid_template_rows": null,
            "right": null,
            "justify_content": null,
            "_view_module": "@jupyter-widgets/base",
            "overflow": null,
            "_model_module_version": "1.2.0",
            "_view_count": null,
            "flex_flow": null,
            "width": null,
            "min_width": null,
            "border": null,
            "align_items": null,
            "bottom": null,
            "_model_module": "@jupyter-widgets/base",
            "top": null,
            "grid_column": null,
            "overflow_y": null,
            "overflow_x": null,
            "grid_auto_flow": null,
            "grid_area": null,
            "grid_template_columns": null,
            "flex": null,
            "_model_name": "LayoutModel",
            "justify_items": null,
            "grid_row": null,
            "max_height": null,
            "align_content": null,
            "visibility": null,
            "align_self": null,
            "height": null,
            "min_height": null,
            "padding": null,
            "grid_auto_rows": null,
            "grid_gap": null,
            "max_width": null,
            "order": null,
            "_view_module_version": "1.2.0",
            "grid_template_areas": null,
            "object_position": null,
            "object_fit": null,
            "grid_auto_columns": null,
            "margin": null,
            "display": null,
            "left": null
          }
        },
        "fc57e8100e72402d877b130377bbb6fd": {
          "model_module": "@jupyter-widgets/controls",
          "model_name": "FloatProgressModel",
          "state": {
            "_view_name": "ProgressView",
            "style": "IPY_MODEL_2e759f81b7ec4348b657bd59c02494f2",
            "_dom_classes": [],
            "description": "100%",
            "_model_name": "FloatProgressModel",
            "bar_style": "success",
            "max": 250,
            "_view_module": "@jupyter-widgets/controls",
            "_model_module_version": "1.5.0",
            "value": 250,
            "_view_count": null,
            "_view_module_version": "1.5.0",
            "orientation": "horizontal",
            "min": 0,
            "description_tooltip": null,
            "_model_module": "@jupyter-widgets/controls",
            "layout": "IPY_MODEL_922b7f5542d24547a277ed9f40203aca"
          }
        },
        "fb1524ad9cc84e0ea20b5b83353c1ad6": {
          "model_module": "@jupyter-widgets/controls",
          "model_name": "HTMLModel",
          "state": {
            "_view_name": "HTMLView",
            "style": "IPY_MODEL_3d5e8299a1234587bc7a9b84907dd3dd",
            "_dom_classes": [],
            "description": "",
            "_model_name": "HTMLModel",
            "placeholder": "​",
            "_view_module": "@jupyter-widgets/controls",
            "_model_module_version": "1.5.0",
            "value": " 250/250 [00:01&lt;00:00, 202.31it/s]",
            "_view_count": null,
            "_view_module_version": "1.5.0",
            "description_tooltip": null,
            "_model_module": "@jupyter-widgets/controls",
            "layout": "IPY_MODEL_9f6c32a8380c470aadc6fafe96dc7818"
          }
        },
        "2e759f81b7ec4348b657bd59c02494f2": {
          "model_module": "@jupyter-widgets/controls",
          "model_name": "ProgressStyleModel",
          "state": {
            "_view_name": "StyleView",
            "_model_name": "ProgressStyleModel",
            "description_width": "initial",
            "_view_module": "@jupyter-widgets/base",
            "_model_module_version": "1.5.0",
            "_view_count": null,
            "_view_module_version": "1.2.0",
            "bar_color": null,
            "_model_module": "@jupyter-widgets/controls"
          }
        },
        "922b7f5542d24547a277ed9f40203aca": {
          "model_module": "@jupyter-widgets/base",
          "model_name": "LayoutModel",
          "state": {
            "_view_name": "LayoutView",
            "grid_template_rows": null,
            "right": null,
            "justify_content": null,
            "_view_module": "@jupyter-widgets/base",
            "overflow": null,
            "_model_module_version": "1.2.0",
            "_view_count": null,
            "flex_flow": null,
            "width": null,
            "min_width": null,
            "border": null,
            "align_items": null,
            "bottom": null,
            "_model_module": "@jupyter-widgets/base",
            "top": null,
            "grid_column": null,
            "overflow_y": null,
            "overflow_x": null,
            "grid_auto_flow": null,
            "grid_area": null,
            "grid_template_columns": null,
            "flex": null,
            "_model_name": "LayoutModel",
            "justify_items": null,
            "grid_row": null,
            "max_height": null,
            "align_content": null,
            "visibility": null,
            "align_self": null,
            "height": null,
            "min_height": null,
            "padding": null,
            "grid_auto_rows": null,
            "grid_gap": null,
            "max_width": null,
            "order": null,
            "_view_module_version": "1.2.0",
            "grid_template_areas": null,
            "object_position": null,
            "object_fit": null,
            "grid_auto_columns": null,
            "margin": null,
            "display": null,
            "left": null
          }
        },
        "3d5e8299a1234587bc7a9b84907dd3dd": {
          "model_module": "@jupyter-widgets/controls",
          "model_name": "DescriptionStyleModel",
          "state": {
            "_view_name": "StyleView",
            "_model_name": "DescriptionStyleModel",
            "description_width": "",
            "_view_module": "@jupyter-widgets/base",
            "_model_module_version": "1.5.0",
            "_view_count": null,
            "_view_module_version": "1.2.0",
            "_model_module": "@jupyter-widgets/controls"
          }
        },
        "9f6c32a8380c470aadc6fafe96dc7818": {
          "model_module": "@jupyter-widgets/base",
          "model_name": "LayoutModel",
          "state": {
            "_view_name": "LayoutView",
            "grid_template_rows": null,
            "right": null,
            "justify_content": null,
            "_view_module": "@jupyter-widgets/base",
            "overflow": null,
            "_model_module_version": "1.2.0",
            "_view_count": null,
            "flex_flow": null,
            "width": null,
            "min_width": null,
            "border": null,
            "align_items": null,
            "bottom": null,
            "_model_module": "@jupyter-widgets/base",
            "top": null,
            "grid_column": null,
            "overflow_y": null,
            "overflow_x": null,
            "grid_auto_flow": null,
            "grid_area": null,
            "grid_template_columns": null,
            "flex": null,
            "_model_name": "LayoutModel",
            "justify_items": null,
            "grid_row": null,
            "max_height": null,
            "align_content": null,
            "visibility": null,
            "align_self": null,
            "height": null,
            "min_height": null,
            "padding": null,
            "grid_auto_rows": null,
            "grid_gap": null,
            "max_width": null,
            "order": null,
            "_view_module_version": "1.2.0",
            "grid_template_areas": null,
            "object_position": null,
            "object_fit": null,
            "grid_auto_columns": null,
            "margin": null,
            "display": null,
            "left": null
          }
        },
        "35f66ff322f74af683eb359fe302f2bb": {
          "model_module": "@jupyter-widgets/controls",
          "model_name": "HBoxModel",
          "state": {
            "_view_name": "HBoxView",
            "_dom_classes": [],
            "_model_name": "HBoxModel",
            "_view_module": "@jupyter-widgets/controls",
            "_model_module_version": "1.5.0",
            "_view_count": null,
            "_view_module_version": "1.5.0",
            "box_style": "",
            "layout": "IPY_MODEL_2a43845de93145b6869a5351ba7a313a",
            "_model_module": "@jupyter-widgets/controls",
            "children": [
              "IPY_MODEL_cdd585d20058472f9d3a977e8f848fdc",
              "IPY_MODEL_c26fa33060a54c969e0ac142e9b52db4"
            ]
          }
        },
        "2a43845de93145b6869a5351ba7a313a": {
          "model_module": "@jupyter-widgets/base",
          "model_name": "LayoutModel",
          "state": {
            "_view_name": "LayoutView",
            "grid_template_rows": null,
            "right": null,
            "justify_content": null,
            "_view_module": "@jupyter-widgets/base",
            "overflow": null,
            "_model_module_version": "1.2.0",
            "_view_count": null,
            "flex_flow": null,
            "width": null,
            "min_width": null,
            "border": null,
            "align_items": null,
            "bottom": null,
            "_model_module": "@jupyter-widgets/base",
            "top": null,
            "grid_column": null,
            "overflow_y": null,
            "overflow_x": null,
            "grid_auto_flow": null,
            "grid_area": null,
            "grid_template_columns": null,
            "flex": null,
            "_model_name": "LayoutModel",
            "justify_items": null,
            "grid_row": null,
            "max_height": null,
            "align_content": null,
            "visibility": null,
            "align_self": null,
            "height": null,
            "min_height": null,
            "padding": null,
            "grid_auto_rows": null,
            "grid_gap": null,
            "max_width": null,
            "order": null,
            "_view_module_version": "1.2.0",
            "grid_template_areas": null,
            "object_position": null,
            "object_fit": null,
            "grid_auto_columns": null,
            "margin": null,
            "display": null,
            "left": null
          }
        },
        "cdd585d20058472f9d3a977e8f848fdc": {
          "model_module": "@jupyter-widgets/controls",
          "model_name": "FloatProgressModel",
          "state": {
            "_view_name": "ProgressView",
            "style": "IPY_MODEL_e4f17f2965b64901844ef58394168064",
            "_dom_classes": [],
            "description": "100%",
            "_model_name": "FloatProgressModel",
            "bar_style": "success",
            "max": 94,
            "_view_module": "@jupyter-widgets/controls",
            "_model_module_version": "1.5.0",
            "value": 94,
            "_view_count": null,
            "_view_module_version": "1.5.0",
            "orientation": "horizontal",
            "min": 0,
            "description_tooltip": null,
            "_model_module": "@jupyter-widgets/controls",
            "layout": "IPY_MODEL_7701fba9adf8442488a339f444c574e6"
          }
        },
        "c26fa33060a54c969e0ac142e9b52db4": {
          "model_module": "@jupyter-widgets/controls",
          "model_name": "HTMLModel",
          "state": {
            "_view_name": "HTMLView",
            "style": "IPY_MODEL_de4071da7f1c434bb100344197b3200c",
            "_dom_classes": [],
            "description": "",
            "_model_name": "HTMLModel",
            "placeholder": "​",
            "_view_module": "@jupyter-widgets/controls",
            "_model_module_version": "1.5.0",
            "value": " 94/94 [00:00&lt;00:00, 223.13it/s]",
            "_view_count": null,
            "_view_module_version": "1.5.0",
            "description_tooltip": null,
            "_model_module": "@jupyter-widgets/controls",
            "layout": "IPY_MODEL_1ae0f962fdee4e12a6e7388e345cfc91"
          }
        },
        "e4f17f2965b64901844ef58394168064": {
          "model_module": "@jupyter-widgets/controls",
          "model_name": "ProgressStyleModel",
          "state": {
            "_view_name": "StyleView",
            "_model_name": "ProgressStyleModel",
            "description_width": "initial",
            "_view_module": "@jupyter-widgets/base",
            "_model_module_version": "1.5.0",
            "_view_count": null,
            "_view_module_version": "1.2.0",
            "bar_color": null,
            "_model_module": "@jupyter-widgets/controls"
          }
        },
        "7701fba9adf8442488a339f444c574e6": {
          "model_module": "@jupyter-widgets/base",
          "model_name": "LayoutModel",
          "state": {
            "_view_name": "LayoutView",
            "grid_template_rows": null,
            "right": null,
            "justify_content": null,
            "_view_module": "@jupyter-widgets/base",
            "overflow": null,
            "_model_module_version": "1.2.0",
            "_view_count": null,
            "flex_flow": null,
            "width": null,
            "min_width": null,
            "border": null,
            "align_items": null,
            "bottom": null,
            "_model_module": "@jupyter-widgets/base",
            "top": null,
            "grid_column": null,
            "overflow_y": null,
            "overflow_x": null,
            "grid_auto_flow": null,
            "grid_area": null,
            "grid_template_columns": null,
            "flex": null,
            "_model_name": "LayoutModel",
            "justify_items": null,
            "grid_row": null,
            "max_height": null,
            "align_content": null,
            "visibility": null,
            "align_self": null,
            "height": null,
            "min_height": null,
            "padding": null,
            "grid_auto_rows": null,
            "grid_gap": null,
            "max_width": null,
            "order": null,
            "_view_module_version": "1.2.0",
            "grid_template_areas": null,
            "object_position": null,
            "object_fit": null,
            "grid_auto_columns": null,
            "margin": null,
            "display": null,
            "left": null
          }
        },
        "de4071da7f1c434bb100344197b3200c": {
          "model_module": "@jupyter-widgets/controls",
          "model_name": "DescriptionStyleModel",
          "state": {
            "_view_name": "StyleView",
            "_model_name": "DescriptionStyleModel",
            "description_width": "",
            "_view_module": "@jupyter-widgets/base",
            "_model_module_version": "1.5.0",
            "_view_count": null,
            "_view_module_version": "1.2.0",
            "_model_module": "@jupyter-widgets/controls"
          }
        },
        "1ae0f962fdee4e12a6e7388e345cfc91": {
          "model_module": "@jupyter-widgets/base",
          "model_name": "LayoutModel",
          "state": {
            "_view_name": "LayoutView",
            "grid_template_rows": null,
            "right": null,
            "justify_content": null,
            "_view_module": "@jupyter-widgets/base",
            "overflow": null,
            "_model_module_version": "1.2.0",
            "_view_count": null,
            "flex_flow": null,
            "width": null,
            "min_width": null,
            "border": null,
            "align_items": null,
            "bottom": null,
            "_model_module": "@jupyter-widgets/base",
            "top": null,
            "grid_column": null,
            "overflow_y": null,
            "overflow_x": null,
            "grid_auto_flow": null,
            "grid_area": null,
            "grid_template_columns": null,
            "flex": null,
            "_model_name": "LayoutModel",
            "justify_items": null,
            "grid_row": null,
            "max_height": null,
            "align_content": null,
            "visibility": null,
            "align_self": null,
            "height": null,
            "min_height": null,
            "padding": null,
            "grid_auto_rows": null,
            "grid_gap": null,
            "max_width": null,
            "order": null,
            "_view_module_version": "1.2.0",
            "grid_template_areas": null,
            "object_position": null,
            "object_fit": null,
            "grid_auto_columns": null,
            "margin": null,
            "display": null,
            "left": null
          }
        },
        "9efb17599b894c8899a4d5020b23304e": {
          "model_module": "@jupyter-widgets/controls",
          "model_name": "HBoxModel",
          "state": {
            "_view_name": "HBoxView",
            "_dom_classes": [],
            "_model_name": "HBoxModel",
            "_view_module": "@jupyter-widgets/controls",
            "_model_module_version": "1.5.0",
            "_view_count": null,
            "_view_module_version": "1.5.0",
            "box_style": "",
            "layout": "IPY_MODEL_7f5b15a605504e9d8d16eb1b23a2a6fd",
            "_model_module": "@jupyter-widgets/controls",
            "children": [
              "IPY_MODEL_ef31b58f706d4bb396ed9fe0d2f6d492",
              "IPY_MODEL_554d17bf0bd44b69a2cdcf01f0be2660"
            ]
          }
        },
        "7f5b15a605504e9d8d16eb1b23a2a6fd": {
          "model_module": "@jupyter-widgets/base",
          "model_name": "LayoutModel",
          "state": {
            "_view_name": "LayoutView",
            "grid_template_rows": null,
            "right": null,
            "justify_content": null,
            "_view_module": "@jupyter-widgets/base",
            "overflow": null,
            "_model_module_version": "1.2.0",
            "_view_count": null,
            "flex_flow": null,
            "width": null,
            "min_width": null,
            "border": null,
            "align_items": null,
            "bottom": null,
            "_model_module": "@jupyter-widgets/base",
            "top": null,
            "grid_column": null,
            "overflow_y": null,
            "overflow_x": null,
            "grid_auto_flow": null,
            "grid_area": null,
            "grid_template_columns": null,
            "flex": null,
            "_model_name": "LayoutModel",
            "justify_items": null,
            "grid_row": null,
            "max_height": null,
            "align_content": null,
            "visibility": null,
            "align_self": null,
            "height": null,
            "min_height": null,
            "padding": null,
            "grid_auto_rows": null,
            "grid_gap": null,
            "max_width": null,
            "order": null,
            "_view_module_version": "1.2.0",
            "grid_template_areas": null,
            "object_position": null,
            "object_fit": null,
            "grid_auto_columns": null,
            "margin": null,
            "display": null,
            "left": null
          }
        },
        "ef31b58f706d4bb396ed9fe0d2f6d492": {
          "model_module": "@jupyter-widgets/controls",
          "model_name": "FloatProgressModel",
          "state": {
            "_view_name": "ProgressView",
            "style": "IPY_MODEL_665be49921bc408e86be4f149cadf998",
            "_dom_classes": [],
            "description": "100%",
            "_model_name": "FloatProgressModel",
            "bar_style": "success",
            "max": 162849,
            "_view_module": "@jupyter-widgets/controls",
            "_model_module_version": "1.5.0",
            "value": 162849,
            "_view_count": null,
            "_view_module_version": "1.5.0",
            "orientation": "horizontal",
            "min": 0,
            "description_tooltip": null,
            "_model_module": "@jupyter-widgets/controls",
            "layout": "IPY_MODEL_ec68fa18c6aa486689bf5bf71c2ecbb3"
          }
        },
        "554d17bf0bd44b69a2cdcf01f0be2660": {
          "model_module": "@jupyter-widgets/controls",
          "model_name": "HTMLModel",
          "state": {
            "_view_name": "HTMLView",
            "style": "IPY_MODEL_e63fca54c6ad4800801e40f043c29adf",
            "_dom_classes": [],
            "description": "",
            "_model_name": "HTMLModel",
            "placeholder": "​",
            "_view_module": "@jupyter-widgets/controls",
            "_model_module_version": "1.5.0",
            "value": " 162849/162849 [01:52&lt;00:00, 1444.30it/s]",
            "_view_count": null,
            "_view_module_version": "1.5.0",
            "description_tooltip": null,
            "_model_module": "@jupyter-widgets/controls",
            "layout": "IPY_MODEL_03d06446dec34baabda24b081a1a3c2a"
          }
        },
        "665be49921bc408e86be4f149cadf998": {
          "model_module": "@jupyter-widgets/controls",
          "model_name": "ProgressStyleModel",
          "state": {
            "_view_name": "StyleView",
            "_model_name": "ProgressStyleModel",
            "description_width": "initial",
            "_view_module": "@jupyter-widgets/base",
            "_model_module_version": "1.5.0",
            "_view_count": null,
            "_view_module_version": "1.2.0",
            "bar_color": null,
            "_model_module": "@jupyter-widgets/controls"
          }
        },
        "ec68fa18c6aa486689bf5bf71c2ecbb3": {
          "model_module": "@jupyter-widgets/base",
          "model_name": "LayoutModel",
          "state": {
            "_view_name": "LayoutView",
            "grid_template_rows": null,
            "right": null,
            "justify_content": null,
            "_view_module": "@jupyter-widgets/base",
            "overflow": null,
            "_model_module_version": "1.2.0",
            "_view_count": null,
            "flex_flow": null,
            "width": null,
            "min_width": null,
            "border": null,
            "align_items": null,
            "bottom": null,
            "_model_module": "@jupyter-widgets/base",
            "top": null,
            "grid_column": null,
            "overflow_y": null,
            "overflow_x": null,
            "grid_auto_flow": null,
            "grid_area": null,
            "grid_template_columns": null,
            "flex": null,
            "_model_name": "LayoutModel",
            "justify_items": null,
            "grid_row": null,
            "max_height": null,
            "align_content": null,
            "visibility": null,
            "align_self": null,
            "height": null,
            "min_height": null,
            "padding": null,
            "grid_auto_rows": null,
            "grid_gap": null,
            "max_width": null,
            "order": null,
            "_view_module_version": "1.2.0",
            "grid_template_areas": null,
            "object_position": null,
            "object_fit": null,
            "grid_auto_columns": null,
            "margin": null,
            "display": null,
            "left": null
          }
        },
        "e63fca54c6ad4800801e40f043c29adf": {
          "model_module": "@jupyter-widgets/controls",
          "model_name": "DescriptionStyleModel",
          "state": {
            "_view_name": "StyleView",
            "_model_name": "DescriptionStyleModel",
            "description_width": "",
            "_view_module": "@jupyter-widgets/base",
            "_model_module_version": "1.5.0",
            "_view_count": null,
            "_view_module_version": "1.2.0",
            "_model_module": "@jupyter-widgets/controls"
          }
        },
        "03d06446dec34baabda24b081a1a3c2a": {
          "model_module": "@jupyter-widgets/base",
          "model_name": "LayoutModel",
          "state": {
            "_view_name": "LayoutView",
            "grid_template_rows": null,
            "right": null,
            "justify_content": null,
            "_view_module": "@jupyter-widgets/base",
            "overflow": null,
            "_model_module_version": "1.2.0",
            "_view_count": null,
            "flex_flow": null,
            "width": null,
            "min_width": null,
            "border": null,
            "align_items": null,
            "bottom": null,
            "_model_module": "@jupyter-widgets/base",
            "top": null,
            "grid_column": null,
            "overflow_y": null,
            "overflow_x": null,
            "grid_auto_flow": null,
            "grid_area": null,
            "grid_template_columns": null,
            "flex": null,
            "_model_name": "LayoutModel",
            "justify_items": null,
            "grid_row": null,
            "max_height": null,
            "align_content": null,
            "visibility": null,
            "align_self": null,
            "height": null,
            "min_height": null,
            "padding": null,
            "grid_auto_rows": null,
            "grid_gap": null,
            "max_width": null,
            "order": null,
            "_view_module_version": "1.2.0",
            "grid_template_areas": null,
            "object_position": null,
            "object_fit": null,
            "grid_auto_columns": null,
            "margin": null,
            "display": null,
            "left": null
          }
        }
      }
    }
  },
  "cells": [
    {
      "cell_type": "markdown",
      "metadata": {
        "id": "view-in-github",
        "colab_type": "text"
      },
      "source": [
        "<a href=\"https://colab.research.google.com/github/Qusai23/Amer_ML/blob/master/Final%20Proj%20-%20Covid-19%20Detection.ipynb\" target=\"_parent\"><img src=\"https://colab.research.google.com/assets/colab-badge.svg\" alt=\"Open In Colab\"/></a>"
      ]
    },
    {
      "cell_type": "markdown",
      "metadata": {
        "id": "O7EHa3ZMGeo4"
      },
      "source": [
        "#CSCE 633 HW 5\n",
        "Team 4: Gabriel Stella, Aaryan Kothapalli, Keishla D. Ortiz-Lopez, Qusai Amer, Yiqing Zhao"
      ]
    },
    {
      "cell_type": "markdown",
      "metadata": {
        "id": "T7ETuMcETgG4"
      },
      "source": [
        "# Setup"
      ]
    },
    {
      "cell_type": "code",
      "metadata": {
        "id": "gZuScltrTdVU",
        "colab": {
          "base_uri": "https://localhost:8080/"
        },
        "outputId": "14052df4-da11-4f71-d111-d69e0f151db3"
      },
      "source": [
        "#only run this if the next cell fails with \"module not found\" on skfeature\n",
        "!pip install git+https://github.com/jundongl/scikit-feature.git"
      ],
      "execution_count": 2,
      "outputs": [
        {
          "output_type": "stream",
          "text": [
            "Collecting git+https://github.com/jundongl/scikit-feature.git\n",
            "  Cloning https://github.com/jundongl/scikit-feature.git to /tmp/pip-req-build-i84h7xir\n",
            "  Running command git clone -q https://github.com/jundongl/scikit-feature.git /tmp/pip-req-build-i84h7xir\n",
            "Building wheels for collected packages: skfeature\n",
            "  Building wheel for skfeature (setup.py) ... \u001b[?25l\u001b[?25hdone\n",
            "  Created wheel for skfeature: filename=skfeature-1.0.0-cp37-none-any.whl size=61494 sha256=d069faa1f82dd0dca9a70666e95ad24d59347a6c11fff27023a6cc7a4e009a04\n",
            "  Stored in directory: /tmp/pip-ephem-wheel-cache-z5oo84fo/wheels/5f/b4/c0/c8e13a8fbfaed3dd4b778d6788a3f9044d02b97a820a37f435\n",
            "Successfully built skfeature\n",
            "Installing collected packages: skfeature\n",
            "Successfully installed skfeature-1.0.0\n"
          ],
          "name": "stdout"
        }
      ]
    },
    {
      "cell_type": "markdown",
      "metadata": {
        "id": "7J6K7HFMTid5"
      },
      "source": [
        "## Imports"
      ]
    },
    {
      "cell_type": "code",
      "metadata": {
        "id": "JqV9kLlLTe4J",
        "colab": {
          "base_uri": "https://localhost:8080/"
        },
        "outputId": "cc707c6c-de80-4695-872f-d6a2d0ce8ffb"
      },
      "source": [
        "#basics\n",
        "from math import floor, sqrt, pi\n",
        "from random import sample\n",
        "import time\n",
        "import timeit\n",
        "#helpful progress bar\n",
        "from tqdm.notebook import tqdm, trange\n",
        "\n",
        "#file access\n",
        "import os\n",
        "import glob\n",
        "from google.colab import drive\n",
        "\n",
        "#data processing\n",
        "import numpy as np\n",
        "import pandas as pd\n",
        "import csv\n",
        "#libraries for image trimming and resizing\n",
        "from PIL import Image, ImageDraw, ImageFilter\n",
        "\n",
        "#matplot\n",
        "%matplotlib inline\n",
        "import matplotlib.pyplot as plot\n",
        "plot.rcParams[\"figure.figsize\"] = (20, 10) # (w, h)\n",
        "\n",
        "#scikit\n",
        "#gotta love Python and the hard work everybody else put into this stuff\n",
        "from sklearn.tree import DecisionTreeClassifier\n",
        "from sklearn.feature_selection import SelectKBest, chi2, RFE\n",
        "from sklearn.linear_model import LogisticRegression\n",
        "from sklearn.ensemble import AdaBoostClassifier\n",
        "from sklearn.model_selection import cross_validate, train_test_split\n",
        "from sklearn.metrics import accuracy_score, make_scorer\n",
        "from skimage import io, exposure\n",
        "from skimage.util import img_as_float\n",
        "from skimage.color import rgb2gray\n",
        "from skimage.filters import frangi, meijering, prewitt, gabor\n",
        "from skimage.feature import hog\n",
        "from skfeature.function.similarity_based.fisher_score import fisher_score, feature_ranking as rank_fisher\n",
        "from skfeature.function.statistical_based.gini_index import gini_index, feature_ranking as rank_gini\n",
        "from skfeature.utility.mutual_information import conditional_entropy\n",
        "from sklearn.preprocessing import StandardScaler\n",
        "\n",
        "#torch\n",
        "import torch\n",
        "import torch.nn as nn\n",
        "#tensorflow\n",
        "import tensorflow as tf\n",
        "from tensorflow.keras.layers import Conv2D, Flatten, MaxPooling2D\n",
        "from keras.utils import to_categorical\n",
        "from keras.models import Sequential\n",
        "from keras.layers import Dense, Dropout\n",
        "from hyperopt import hp, fmin, tpe, STATUS_OK, Trials\n",
        "\n",
        "#Done\n",
        "print(\"Modules loaded\")"
      ],
      "execution_count": 3,
      "outputs": [
        {
          "output_type": "stream",
          "text": [
            "Modules loaded\n"
          ],
          "name": "stdout"
        }
      ]
    },
    {
      "cell_type": "markdown",
      "metadata": {
        "id": "EV0zUHAlTm0V"
      },
      "source": [
        "## File Loading\n",
        "Since we are using Colab, we can keep all of our files (e.g., image files, .csv files) in a shared Google Drive folder. The following code sets up the paths for each image folder (raw and preprocessed, train and test) and loads the data files."
      ]
    },
    {
      "cell_type": "code",
      "metadata": {
        "id": "5ctbBFdZTn6B",
        "colab": {
          "base_uri": "https://localhost:8080/"
        },
        "outputId": "3c74c40a-68e0-4993-ac91-07f9ce9cfad3"
      },
      "source": [
        "#Access to Google Drive content\n",
        "drive.mount('/content/drive')\n",
        "\n",
        "#basic directory information\n",
        "basePath = '/content/drive/My Drive/CSCE633HW5/'\n",
        "print(os.listdir(basePath))\n",
        "#directory structure for the project\n",
        "train_dir_raw = basePath + 'train/'\n",
        "test_dir_raw = basePath + 'test/'\n",
        "train_dir = basePath + 'train_PREPROCESSED/' #destination of where images will be saved\n",
        "test_dir = basePath + 'test_PREPROCESSED/' #destination of where images will be saved\n",
        "train_dir_cnn = basePath + 'train_CNN/'\n",
        "test_dir_cnn = basePath + 'test_CNN/'\n",
        "#data files\n",
        "train_data = pd.read_csv(basePath + 'train.csv')\n",
        "test_data = pd.read_csv(basePath + 'test.csv')\n",
        "\n",
        "#file listing and  loading\n",
        "def test_extension(f):\n",
        "  extensions = ['.jpg', '.JPG', '.jpeg', '.JPEG', '.png', '.PNG']\n",
        "  ftitle, fext = os.path.splitext(os.path.basename(f))\n",
        "  for ext in extensions:\n",
        "    if(fext == ext):\n",
        "      return True\n",
        "  return False\n",
        "#\n",
        "def normalize(img):\n",
        "  return (img - img.mean()) / img.std()\n",
        "#opens the image file as an skimage\n",
        "def get_image(directory, f):\n",
        "  return (img_as_float(io.imread(os.path.join(directory, f))))\n",
        "#load the images referenced in the given data file\n",
        "#this ensures they are in the same order\n",
        "def get_imgs(dataframe,directory):\n",
        "  imgs = []\n",
        "  for i in trange(len(dataframe)):\n",
        "      ig = get_image(directory, dataframe.iloc[i]['filename']) #match the order of the images in the dataframe and train_dir \n",
        "      imgs.append(ig)                                            \n",
        "  return np.array(imgs,dtype='float32')\n",
        "#get the labels (outcome) as an array \n",
        "def get_labels(dataframe):\n",
        "  labels = dataframe['covid(label)']\n",
        "  return labels.to_numpy()"
      ],
      "execution_count": 4,
      "outputs": [
        {
          "output_type": "stream",
          "text": [
            "Mounted at /content/drive\n",
            "['train', 'test', 'test_PREPROCESSED', 'train_PREPROCESSED', 'test.csv', 'train.csv', 'adaboost', 'train_CNN', 'improving_performance_copy.pdf', 'improving-performance_copy', 'improving-performance', 'PREPROCESSING.ipynb', 'feature_extraction.ipynb', 'test_CNN', 'Project breakdown.gdoc', 'Result info.gsheet', 'Poster.pptx', 'Poster.pdf', 'bonus.csv', 'bonus.pdf', 'bonus_v2.pdf', 'bonus.ipynb', 'Report.gdoc', 'Poster.gdoc', 'FINAL', 'bonus_v2.csv', 'bonus_final.csv', 'Copy of FINAL']\n"
          ],
          "name": "stdout"
        }
      ]
    },
    {
      "cell_type": "markdown",
      "metadata": {
        "id": "t1ufkYeWTvhL"
      },
      "source": [
        "# Preprocessing\n",
        "The original images are large in file size and irregularly rectangular.  These images are transformed by batch processing all the train and test images to be uniformly square format with dimensions of 200x200 for feature extraction, visualization, and scoring, and 100x100 for CNN. By preprocessing all the input data, we effectively normalize everything and in turn improve the neural network performance and save processing time by reducing file sizes."
      ]
    },
    {
      "cell_type": "code",
      "metadata": {
        "id": "tvsEaDpITwzi"
      },
      "source": [
        "def crop_center(pil_img, crop_width, crop_height): #manual definition of crop_center\n",
        "    img_width, img_height = pil_img.size\n",
        "    return pil_img.crop(((img_width - crop_width) // 2,\n",
        "                         (img_height - crop_height) // 2,\n",
        "                         (img_width + crop_width) // 2,\n",
        "                         (img_height + crop_height) // 2))\n",
        "\n",
        "#Function for getting largest square from center (shaves off excess height, maintain current width)\n",
        "def crop_max_square(pil_img):\n",
        "    return crop_center(pil_img, min(pil_img.size), min(pil_img.size))\n",
        "\n",
        "#function that takes in source folder of images, destination folder to save, and image width\n",
        "#The for loop reads each image file, converts to RGB, resizes using LANCZOS filter and saves it to dst_dir\n",
        "def preprocess(src_dir,dst_dir,imageWidth):\n",
        "  files = [f for f in os.listdir(src_dir) if test_extension(f)]\n",
        "  print(\"Processing\", src_dir, \"->\", dst_dir, f\"({imageWidth}x{imageWidth})\")\n",
        "  for f in tqdm(files):\n",
        "    im = Image.open(os.path.join(src_dir, f))\n",
        "    im = im.convert(\"RGB\") # important, not all are JPEG. Converts from RGBA to JPEG compatible\n",
        "    im_thumb = crop_max_square(im).resize((imageWidth, imageWidth), Image.LANCZOS)\n",
        "    im_thumb.save(os.path.join(dst_dir, f), quality=95)\n",
        "  print(\"Processed\", len(files), \"files\")\n"
      ],
      "execution_count": 5,
      "outputs": []
    },
    {
      "cell_type": "code",
      "metadata": {
        "id": "crabgy-xT6OS",
        "colab": {
          "base_uri": "https://localhost:8080/",
          "height": 369,
          "referenced_widgets": [
            "4e395e06a8b649a3982d30b5f24d3678",
            "6f00a337486d401bbc1c024bc3ad0a85",
            "777a607c54d44f39a983375e45fbbb65",
            "c120e940c5ea40649f80d2f5b665415d",
            "2522f7300752414e920a137e131cb8e0",
            "252c34453f7846eab06f17b115caf202",
            "04100a60bf75490c844e329f469e9d14",
            "59d9471d8de347fc89099d51f28e9164",
            "20480f6f16064cae86e501eeda628b14",
            "a5953fdda77c4cc5a68f89ca9ac38bd9",
            "ae83ec3b1fcd4355a3b81dc72fb1dfb9",
            "5240a23ae49d444d9bd9a293b38c5b75",
            "7870e2cfaf3c4f0bb332bed3834f6b98",
            "4b01f3735a8547788aa66f541f4657ff",
            "79032100b22046a58a15e6ebd78a7063",
            "fbdd7d75a552403e90c635453b19baf9",
            "bea6c973aeaf407981b0d05555c1ffd1",
            "0a51e157471548a39b9d354a28e37116",
            "45383d9d99e74e8780d487b139a09962",
            "621b0a1cab73432492d593570923c273",
            "7209bde91082410097ccb72e86c19e68",
            "e5d05b7f44d84a7c9d2fb68aece3241a",
            "79d6499ecad540cd8787b39e7d7d35f4",
            "8cd17c66e4c84878a5a1cce262bcc88b",
            "7098e668553c48c19c95cb358420cd19",
            "a7ed73e317894281a70620d27bc33d37",
            "fa62b6a6c3da4c8d95c197937cf7cd22",
            "98fee2c394154867809f0f7f93a09061",
            "5e565dd8df70480ba392e2d07bd76265",
            "59536aeeb18246558228d149c34864fd",
            "5ddfce392d5f42318340d9c4f5fd24a5",
            "bfd84d30523a4d29b2885268cc1ed8e9"
          ]
        },
        "outputId": "c5f23787-51f5-4bea-f090-06c05118836e"
      },
      "source": [
        "preprocess(train_dir_raw, train_dir, 200)\n",
        "preprocess(test_dir_raw, test_dir, 200)\n",
        "preprocess(train_dir_raw, train_dir_cnn, 100)\n",
        "preprocess(test_dir_raw, test_dir_cnn, 100)"
      ],
      "execution_count": 6,
      "outputs": [
        {
          "output_type": "stream",
          "text": [
            "Processing /content/drive/My Drive/CSCE633HW5/train/ -> /content/drive/My Drive/CSCE633HW5/train_PREPROCESSED/ (200x200)\n"
          ],
          "name": "stdout"
        },
        {
          "output_type": "display_data",
          "data": {
            "application/vnd.jupyter.widget-view+json": {
              "model_id": "4e395e06a8b649a3982d30b5f24d3678",
              "version_minor": 0,
              "version_major": 2
            },
            "text/plain": [
              "HBox(children=(FloatProgress(value=0.0, max=250.0), HTML(value='')))"
            ]
          },
          "metadata": {
            "tags": []
          }
        },
        {
          "output_type": "stream",
          "text": [
            "\n",
            "Processed 250 files\n",
            "Processing /content/drive/My Drive/CSCE633HW5/test/ -> /content/drive/My Drive/CSCE633HW5/test_PREPROCESSED/ (200x200)\n"
          ],
          "name": "stdout"
        },
        {
          "output_type": "display_data",
          "data": {
            "application/vnd.jupyter.widget-view+json": {
              "model_id": "20480f6f16064cae86e501eeda628b14",
              "version_minor": 0,
              "version_major": 2
            },
            "text/plain": [
              "HBox(children=(FloatProgress(value=0.0, max=94.0), HTML(value='')))"
            ]
          },
          "metadata": {
            "tags": []
          }
        },
        {
          "output_type": "stream",
          "text": [
            "\n",
            "Processed 94 files\n",
            "Processing /content/drive/My Drive/CSCE633HW5/train/ -> /content/drive/My Drive/CSCE633HW5/train_CNN/ (100x100)\n"
          ],
          "name": "stdout"
        },
        {
          "output_type": "display_data",
          "data": {
            "application/vnd.jupyter.widget-view+json": {
              "model_id": "bea6c973aeaf407981b0d05555c1ffd1",
              "version_minor": 0,
              "version_major": 2
            },
            "text/plain": [
              "HBox(children=(FloatProgress(value=0.0, max=250.0), HTML(value='')))"
            ]
          },
          "metadata": {
            "tags": []
          }
        },
        {
          "output_type": "stream",
          "text": [
            "\n",
            "Processed 250 files\n",
            "Processing /content/drive/My Drive/CSCE633HW5/test/ -> /content/drive/My Drive/CSCE633HW5/test_CNN/ (100x100)\n"
          ],
          "name": "stdout"
        },
        {
          "output_type": "display_data",
          "data": {
            "application/vnd.jupyter.widget-view+json": {
              "model_id": "7098e668553c48c19c95cb358420cd19",
              "version_minor": 0,
              "version_major": 2
            },
            "text/plain": [
              "HBox(children=(FloatProgress(value=0.0, max=94.0), HTML(value='')))"
            ]
          },
          "metadata": {
            "tags": []
          }
        },
        {
          "output_type": "stream",
          "text": [
            "\n",
            "Processed 94 files\n"
          ],
          "name": "stdout"
        }
      ]
    },
    {
      "cell_type": "markdown",
      "metadata": {
        "id": "Hs4gBcQdARSo"
      },
      "source": [
        "# Load the training files"
      ]
    },
    {
      "cell_type": "code",
      "metadata": {
        "id": "Kru4fvRWTszC",
        "colab": {
          "base_uri": "https://localhost:8080/",
          "height": 115,
          "referenced_widgets": [
            "4cad481f713345a5bc3b52c66047f333",
            "d9b28aff99ff41fb8f00a2e1314bab48",
            "8f9f5d3a505e4f4ab391d35534310f08",
            "ba20e0e80926424daba838c8360c173f",
            "54c56dd8436c4f0990a7bd1f52c2fadf",
            "84d1e511bd9d4186a6fd2b37fa42c814",
            "5ccd9e5cf5874a629df5ddf4a67bcd60",
            "64cb81e4cb5b4504ae7015ac95818749",
            "77b2c694be45424eb90be2e245956321",
            "8961aadf5a0f42d3b5c6eb34a3cd8aef",
            "fc57e8100e72402d877b130377bbb6fd",
            "fb1524ad9cc84e0ea20b5b83353c1ad6",
            "2e759f81b7ec4348b657bd59c02494f2",
            "922b7f5542d24547a277ed9f40203aca",
            "3d5e8299a1234587bc7a9b84907dd3dd",
            "9f6c32a8380c470aadc6fafe96dc7818"
          ]
        },
        "outputId": "19d5918e-6d31-43ec-fadb-e336456c3e07"
      },
      "source": [
        "#load the datasets\n",
        "X_train_img = get_imgs(train_data, train_dir)\n",
        "#X_train = features(X_img_train)\n",
        "X_train_cnn = get_imgs(train_data, train_dir_cnn)\n",
        "y_train = get_labels(train_data)\n",
        "\n"
      ],
      "execution_count": 7,
      "outputs": [
        {
          "output_type": "display_data",
          "data": {
            "application/vnd.jupyter.widget-view+json": {
              "model_id": "4cad481f713345a5bc3b52c66047f333",
              "version_minor": 0,
              "version_major": 2
            },
            "text/plain": [
              "HBox(children=(FloatProgress(value=0.0, max=250.0), HTML(value='')))"
            ]
          },
          "metadata": {
            "tags": []
          }
        },
        {
          "output_type": "stream",
          "text": [
            "\n"
          ],
          "name": "stdout"
        },
        {
          "output_type": "display_data",
          "data": {
            "application/vnd.jupyter.widget-view+json": {
              "model_id": "77b2c694be45424eb90be2e245956321",
              "version_minor": 0,
              "version_major": 2
            },
            "text/plain": [
              "HBox(children=(FloatProgress(value=0.0, max=250.0), HTML(value='')))"
            ]
          },
          "metadata": {
            "tags": []
          }
        },
        {
          "output_type": "stream",
          "text": [
            "\n"
          ],
          "name": "stdout"
        }
      ]
    },
    {
      "cell_type": "markdown",
      "metadata": {
        "id": "2DjAvTpxUG6C"
      },
      "source": [
        "# Feature Extraction and Visualization\n",
        "We extract the following features:\n",
        "* Gabor filters (horizontal and vertical): Gabor filters (i.e., filter banks) are a common tool in visual feature extraction kits\n",
        "* Prewitt edge detector: edge detection is another common ingredient in any visual feature extraction kit. It should especially help highlight the \"branches\" inside of the lungs.\n",
        "* HOG: Histogram of Oriented Gradients is a common and powerful feature extractor. Our later feature selection methods found that the HOG features were some of the most valuable.\n",
        "\n",
        "Each feature can be visualized as an image (result of applying the filter to the input image) and as a histogram (generated from pixel values).\n",
        "\n",
        "To generate a feature vector, we simply concatenate all features."
      ]
    },
    {
      "cell_type": "code",
      "metadata": {
        "colab": {
          "base_uri": "https://localhost:8080/",
          "height": 899,
          "referenced_widgets": [
            "35f66ff322f74af683eb359fe302f2bb",
            "2a43845de93145b6869a5351ba7a313a",
            "cdd585d20058472f9d3a977e8f848fdc",
            "c26fa33060a54c969e0ac142e9b52db4",
            "e4f17f2965b64901844ef58394168064",
            "7701fba9adf8442488a339f444c574e6",
            "de4071da7f1c434bb100344197b3200c",
            "1ae0f962fdee4e12a6e7388e345cfc91"
          ]
        },
        "id": "fi7-r4yuZPZN",
        "outputId": "0704be17-2f99-4cb2-a65c-748546e68021"
      },
      "source": [
        "X_test = get_imgs(test_data, test_dir_cnn)\n",
        "X_test[0]"
      ],
      "execution_count": 8,
      "outputs": [
        {
          "output_type": "display_data",
          "data": {
            "application/vnd.jupyter.widget-view+json": {
              "model_id": "35f66ff322f74af683eb359fe302f2bb",
              "version_minor": 0,
              "version_major": 2
            },
            "text/plain": [
              "HBox(children=(FloatProgress(value=0.0, max=94.0), HTML(value='')))"
            ]
          },
          "metadata": {
            "tags": []
          }
        },
        {
          "output_type": "stream",
          "text": [
            "\n"
          ],
          "name": "stdout"
        },
        {
          "output_type": "execute_result",
          "data": {
            "text/plain": [
              "array([[[0.10196079, 0.10196079, 0.10196079],\n",
              "        [0.10588235, 0.10588235, 0.10588235],\n",
              "        [0.10196079, 0.10196079, 0.10196079],\n",
              "        ...,\n",
              "        [0.12156863, 0.12156863, 0.12156863],\n",
              "        [0.12941177, 0.12941177, 0.12941177],\n",
              "        [0.13333334, 0.13333334, 0.13333334]],\n",
              "\n",
              "       [[0.09411765, 0.09411765, 0.09411765],\n",
              "        [0.09803922, 0.09803922, 0.09803922],\n",
              "        [0.09803922, 0.09803922, 0.09803922],\n",
              "        ...,\n",
              "        [0.09019608, 0.09019608, 0.09019608],\n",
              "        [0.08235294, 0.08235294, 0.08235294],\n",
              "        [0.07843138, 0.07843138, 0.07843138]],\n",
              "\n",
              "       [[0.09411765, 0.09411765, 0.09411765],\n",
              "        [0.09803922, 0.09803922, 0.09803922],\n",
              "        [0.09411765, 0.09411765, 0.09411765],\n",
              "        ...,\n",
              "        [0.20784314, 0.20784314, 0.20784314],\n",
              "        [0.16470589, 0.16470589, 0.16470589],\n",
              "        [0.13333334, 0.13333334, 0.13333334]],\n",
              "\n",
              "       ...,\n",
              "\n",
              "       [[0.42745098, 0.42745098, 0.42745098],\n",
              "        [0.44313726, 0.44313726, 0.44313726],\n",
              "        [0.44313726, 0.44313726, 0.44313726],\n",
              "        ...,\n",
              "        [0.4745098 , 0.4745098 , 0.4745098 ],\n",
              "        [0.4627451 , 0.4627451 , 0.4627451 ],\n",
              "        [0.4509804 , 0.4509804 , 0.4509804 ]],\n",
              "\n",
              "       [[0.45882353, 0.45882353, 0.45882353],\n",
              "        [0.47058824, 0.47058824, 0.47058824],\n",
              "        [0.4627451 , 0.4627451 , 0.4627451 ],\n",
              "        ...,\n",
              "        [0.4627451 , 0.4627451 , 0.4627451 ],\n",
              "        [0.45490196, 0.45490196, 0.45490196],\n",
              "        [0.4392157 , 0.4392157 , 0.4392157 ]],\n",
              "\n",
              "       [[0.48235294, 0.48235294, 0.48235294],\n",
              "        [0.49411765, 0.49411765, 0.49411765],\n",
              "        [0.48235294, 0.48235294, 0.48235294],\n",
              "        ...,\n",
              "        [0.4745098 , 0.4745098 , 0.4745098 ],\n",
              "        [0.46666667, 0.46666667, 0.46666667],\n",
              "        [0.45490196, 0.45490196, 0.45490196]]], dtype=float32)"
            ]
          },
          "metadata": {
            "tags": []
          },
          "execution_count": 8
        }
      ]
    },
    {
      "cell_type": "code",
      "metadata": {
        "id": "JmeJmwBTUJyE"
      },
      "source": [
        "#prepares n subplot boxes\n",
        "def npaxes(n):\n",
        "    #\n",
        "    r = floor(sqrt(n))\n",
        "    while(n % r != 0):\n",
        "        r -= 1\n",
        "    c = int(n / r)\n",
        "    #\n",
        "    fig, ax = plot.subplots(r, c)\n",
        "    r_ = 0\n",
        "    c_ = 0\n",
        "\n",
        "    axes = []\n",
        "\n",
        "    for _ in range(n):\n",
        "        if(c == 1 or r == 1):\n",
        "          axes.append(ax[max(r_, c_)])\n",
        "        else:\n",
        "          axes.append(ax[r_, c_])\n",
        "        #\n",
        "        c_ += 1\n",
        "        if(c_ >= c):\n",
        "            c_ = 0\n",
        "            r_ += 1\n",
        "\n",
        "    #plot.tight_layout()\n",
        "    #plot.show()\n",
        "\n",
        "    return axes\n",
        "\n",
        "#I wanted to use meijering neuriteness / frangi edge filters\n",
        "#but they didn't really work - prewitt filter seemed to extract edges much better\n",
        "\n",
        "#extracts the following features:\n",
        "#-two gabor filters\n",
        "#-prewitt edge filter\n",
        "#-HOG\n",
        "#also generates visualization data for each\n",
        "#so it returns a pair, first element = feature vector, second element = visualization stuff\n",
        "def extract_features(img):\n",
        "    img = rgb2gray(img)\n",
        "    g1 = gabor(img, 1, theta = 0)\n",
        "    g2 = gabor(img, 1, theta = pi / 2)\n",
        "    p = prewitt(img)\n",
        "    (hog_fd, hog_img) = hog(img, visualize=True)\n",
        "    hog_img = exposure.rescale_intensity(hog_img, in_range=(0, 10))\n",
        "    #\n",
        "    #features = [np.histogram(feat, bins='sqrt') for feat in [g1[0], g2[0], p]] + [hog_fd]\n",
        "    features = np.concatenate((g1[0].flatten(), g2[0].flatten(), p.flatten(), hog_fd))\n",
        "    visualizations = [img, g1[0], g2[0], p, hog_img]\n",
        "    labels = [\"Src\", \"Gabor1\", \"Gabor2\", \"Prewitt\", \"HOG\"]\n",
        "    # print(f\" Gabor 1 are: {len(g1[0].flatten())}\")\n",
        "    # print(f\" Gabor 2 are: {len(g2[0].flatten())}\")\n",
        "    # print(f\" prewett are: {len(p.flatten())}\")\n",
        "    # print(f\" HOG are: {len(hog_fd)}\")\n",
        "\n",
        "    return (features, (visualizations, labels))\n",
        "\n",
        "def display_features(vl):\n",
        "    (vis, labels) = vl\n",
        "    n = len(vis)\n",
        "    axes = npaxes(n * 2)\n",
        "    for i in range(n):\n",
        "        f = vis[i]\n",
        "        axes[i].imshow(f, cmap=\"gray\")\n",
        "        axes[i].set_xlabel(labels[i])\n",
        "        axes[i + n].hist(f.flatten(), bins=\"sqrt\")\n",
        "        axes[i + n].set_xlabel(labels[i])\n",
        "\n",
        "def features(imgs):\n",
        "    feats = []\n",
        "    vis = []\n",
        "    for img in tqdm(imgs, desc=\"Extracting features\"):\n",
        "        (feat, v) = extract_features(img)\n",
        "        feats.append(feat)\n",
        "        vis.append(v)\n",
        "    return (np.stack(feats), np.stack(vis)) #.array and .stack should do the same thing here, I believ"
      ],
      "execution_count": 1,
      "outputs": []
    },
    {
      "cell_type": "code",
      "metadata": {
        "id": "kYhNF_V4USM6",
        "colab": {
          "base_uri": "https://localhost:8080/",
          "height": 215
        },
        "outputId": "3478fcf6-54ae-459e-b50c-f420dcbc05af"
      },
      "source": [
        "(X_train, X_train_vis) = features(X_train_img)\n",
        "\n",
        "#visualize one random point\n",
        "display_features(X_train_vis[sample(range(X_train_vis.shape[0]), 1)[0]])"
      ],
      "execution_count": 2,
      "outputs": [
        {
          "output_type": "error",
          "ename": "NameError",
          "evalue": "ignored",
          "traceback": [
            "\u001b[0;31m---------------------------------------------------------------------------\u001b[0m",
            "\u001b[0;31mNameError\u001b[0m                                 Traceback (most recent call last)",
            "\u001b[0;32m<ipython-input-2-529adb1f5570>\u001b[0m in \u001b[0;36m<module>\u001b[0;34m()\u001b[0m\n\u001b[0;32m----> 1\u001b[0;31m \u001b[0;34m(\u001b[0m\u001b[0mX_train\u001b[0m\u001b[0;34m,\u001b[0m \u001b[0mX_train_vis\u001b[0m\u001b[0;34m)\u001b[0m \u001b[0;34m=\u001b[0m \u001b[0mfeatures\u001b[0m\u001b[0;34m(\u001b[0m\u001b[0mX_train_img\u001b[0m\u001b[0;34m)\u001b[0m\u001b[0;34m\u001b[0m\u001b[0;34m\u001b[0m\u001b[0m\n\u001b[0m\u001b[1;32m      2\u001b[0m \u001b[0;34m\u001b[0m\u001b[0m\n\u001b[1;32m      3\u001b[0m \u001b[0;31m#visualize one random point\u001b[0m\u001b[0;34m\u001b[0m\u001b[0;34m\u001b[0m\u001b[0;34m\u001b[0m\u001b[0m\n\u001b[1;32m      4\u001b[0m \u001b[0mdisplay_features\u001b[0m\u001b[0;34m(\u001b[0m\u001b[0mX_train_vis\u001b[0m\u001b[0;34m[\u001b[0m\u001b[0msample\u001b[0m\u001b[0;34m(\u001b[0m\u001b[0mrange\u001b[0m\u001b[0;34m(\u001b[0m\u001b[0mX_train_vis\u001b[0m\u001b[0;34m.\u001b[0m\u001b[0mshape\u001b[0m\u001b[0;34m[\u001b[0m\u001b[0;36m0\u001b[0m\u001b[0;34m]\u001b[0m\u001b[0;34m)\u001b[0m\u001b[0;34m,\u001b[0m \u001b[0;36m1\u001b[0m\u001b[0;34m)\u001b[0m\u001b[0;34m[\u001b[0m\u001b[0;36m0\u001b[0m\u001b[0;34m]\u001b[0m\u001b[0;34m]\u001b[0m\u001b[0;34m)\u001b[0m\u001b[0;34m\u001b[0m\u001b[0;34m\u001b[0m\u001b[0m\n",
            "\u001b[0;31mNameError\u001b[0m: name 'X_train_img' is not defined"
          ]
        }
      ]
    },
    {
      "cell_type": "markdown",
      "metadata": {
        "id": "JXPpuKdSUXkX"
      },
      "source": [
        "## Feature Scoring\n",
        "We use the skfeature package, along with some custom code, to generate three types of scores:\n",
        "* Fisher score\n",
        "* Gini index\n",
        "* Conditional entropy\n",
        "\n",
        "For each score type, we rank the features, and collect the top ten. We then combine the resulting 30 features into a set (eliminating duplicates) and display a histogram over the distribution of each of the resulting ~30 features. Note that some have an almost-uniform distribution; these were chosen by conditional entropy minimization."
      ]
    },
    {
      "cell_type": "code",
      "metadata": {
        "id": "_y1gNqXPUZHK",
        "colab": {
          "base_uri": "https://localhost:8080/",
          "height": 546,
          "referenced_widgets": [
            "9efb17599b894c8899a4d5020b23304e",
            "7f5b15a605504e9d8d16eb1b23a2a6fd",
            "ef31b58f706d4bb396ed9fe0d2f6d492",
            "554d17bf0bd44b69a2cdcf01f0be2660",
            "665be49921bc408e86be4f149cadf998",
            "ec68fa18c6aa486689bf5bf71c2ecbb3",
            "e63fca54c6ad4800801e40f043c29adf",
            "03d06446dec34baabda24b081a1a3c2a"
          ]
        },
        "outputId": "3a91dd50-47d6-46bc-aed3-3701e1c809d4"
      },
      "source": [
        "#unfortunately, there isn't any way to add a progress bar to the skfeature methods.\n",
        "# :(\n",
        "\n",
        "#conditional entropy\n",
        "def all_entropies(X, y):\n",
        "  feats = X.shape[1] #number of features\n",
        "  entropies = [0] * feats\n",
        "  for f in trange(feats):\n",
        "    Xs = X[:,f]\n",
        "    entropies[f] = conditional_entropy(Xs, y)\n",
        "  return entropies\n",
        "\n",
        "#returns the indices of entries in ascending order\n",
        "def sort_ranks(xs):\n",
        "  n = len(xs)\n",
        "  #associate each with its index\n",
        "  ids = zip(xs, range(n))\n",
        "  #sort by value and then retrieve index\n",
        "  return [x[1] for x in sorted(ids, key = lambda t: t[0])]\n",
        "\n",
        "entropy_scores = all_entropies(X_train, y_train)\n",
        "entropy_rank = sort_ranks(entropy_scores)\n",
        "entropy_n = 10\n",
        "print(\"Top\", entropy_n, \"features (entropy):\", entropy_rank[:entropy_n])\n",
        "\n",
        "#fisher score\n",
        "fisher_scores = fisher_score(X_train, y_train) #score for each feature\n",
        "fisher_rank = rank_fisher(fisher_scores) #feature indices sorted by fisher score\n",
        "fisher_n = 10\n",
        "print(\"Top\", fisher_n, \"features (fisher):\", fisher_rank[:fisher_n])\n",
        "\n",
        "#gini index (takes a long time to calculate)\n",
        "gini_indices = gini_index(X_train, y_train)\n",
        "gini_rank = rank_gini(gini_indices)\n",
        "gini_n = 10\n",
        "print(\"Top\", gini_n, \"features (gini):\", gini_rank[:gini_n])"
      ],
      "execution_count": 14,
      "outputs": [
        {
          "output_type": "display_data",
          "data": {
            "application/vnd.jupyter.widget-view+json": {
              "model_id": "9efb17599b894c8899a4d5020b23304e",
              "version_minor": 0,
              "version_major": 2
            },
            "text/plain": [
              "HBox(children=(FloatProgress(value=0.0, max=162849.0), HTML(value='')))"
            ]
          },
          "metadata": {
            "tags": []
          }
        },
        {
          "output_type": "stream",
          "text": [
            "\n",
            "Top 10 features (entropy): [80000, 80001, 80002, 80003, 80004, 80005, 80006, 80007, 80008, 80009]\n",
            "Top 10 features (fisher): [160903 162811 162739 146060 160975 147896 149732 147933  39400  79400]\n"
          ],
          "name": "stdout"
        },
        {
          "output_type": "error",
          "ename": "KeyboardInterrupt",
          "evalue": "ignored",
          "traceback": [
            "\u001b[0;31m---------------------------------------------------------------------------\u001b[0m",
            "\u001b[0;31mKeyboardInterrupt\u001b[0m                         Traceback (most recent call last)",
            "\u001b[0;32m<ipython-input-14-fc16f24c6a42>\u001b[0m in \u001b[0;36m<module>\u001b[0;34m()\u001b[0m\n\u001b[1;32m     31\u001b[0m \u001b[0;34m\u001b[0m\u001b[0m\n\u001b[1;32m     32\u001b[0m \u001b[0;31m#gini index (takes a long time to calculate)\u001b[0m\u001b[0;34m\u001b[0m\u001b[0;34m\u001b[0m\u001b[0;34m\u001b[0m\u001b[0m\n\u001b[0;32m---> 33\u001b[0;31m \u001b[0mgini_indices\u001b[0m \u001b[0;34m=\u001b[0m \u001b[0mgini_index\u001b[0m\u001b[0;34m(\u001b[0m\u001b[0mX_train\u001b[0m\u001b[0;34m,\u001b[0m \u001b[0my_train\u001b[0m\u001b[0;34m)\u001b[0m\u001b[0;34m\u001b[0m\u001b[0;34m\u001b[0m\u001b[0m\n\u001b[0m\u001b[1;32m     34\u001b[0m \u001b[0mgini_rank\u001b[0m \u001b[0;34m=\u001b[0m \u001b[0mrank_gini\u001b[0m\u001b[0;34m(\u001b[0m\u001b[0mgini_indices\u001b[0m\u001b[0;34m)\u001b[0m\u001b[0;34m\u001b[0m\u001b[0;34m\u001b[0m\u001b[0m\n\u001b[1;32m     35\u001b[0m \u001b[0mgini_n\u001b[0m \u001b[0;34m=\u001b[0m \u001b[0;36m10\u001b[0m\u001b[0;34m\u001b[0m\u001b[0;34m\u001b[0m\u001b[0m\n",
            "\u001b[0;32m/usr/local/lib/python3.7/dist-packages/skfeature/function/statistical_based/gini_index.py\u001b[0m in \u001b[0;36mgini_index\u001b[0;34m(X, y)\u001b[0m\n\u001b[1;32m     38\u001b[0m             \u001b[0mgini_right\u001b[0m \u001b[0;34m=\u001b[0m \u001b[0;36m0\u001b[0m\u001b[0;34m\u001b[0m\u001b[0;34m\u001b[0m\u001b[0m\n\u001b[1;32m     39\u001b[0m \u001b[0;34m\u001b[0m\u001b[0m\n\u001b[0;32m---> 40\u001b[0;31m             \u001b[0;32mfor\u001b[0m \u001b[0mk\u001b[0m \u001b[0;32min\u001b[0m \u001b[0mrange\u001b[0m\u001b[0;34m(\u001b[0m\u001b[0mnp\u001b[0m\u001b[0;34m.\u001b[0m\u001b[0mmin\u001b[0m\u001b[0;34m(\u001b[0m\u001b[0my\u001b[0m\u001b[0;34m)\u001b[0m\u001b[0;34m,\u001b[0m \u001b[0mnp\u001b[0m\u001b[0;34m.\u001b[0m\u001b[0mmax\u001b[0m\u001b[0;34m(\u001b[0m\u001b[0my\u001b[0m\u001b[0;34m)\u001b[0m\u001b[0;34m+\u001b[0m\u001b[0;36m1\u001b[0m\u001b[0;34m)\u001b[0m\u001b[0;34m:\u001b[0m\u001b[0;34m\u001b[0m\u001b[0;34m\u001b[0m\u001b[0m\n\u001b[0m\u001b[1;32m     41\u001b[0m                 \u001b[0;32mif\u001b[0m \u001b[0mlen\u001b[0m\u001b[0;34m(\u001b[0m\u001b[0mleft_y\u001b[0m\u001b[0;34m)\u001b[0m \u001b[0;34m!=\u001b[0m \u001b[0;36m0\u001b[0m\u001b[0;34m:\u001b[0m\u001b[0;34m\u001b[0m\u001b[0;34m\u001b[0m\u001b[0m\n\u001b[1;32m     42\u001b[0m                     \u001b[0;31m# t1_left is probability of occurrence of k in left_y\u001b[0m\u001b[0;34m\u001b[0m\u001b[0;34m\u001b[0m\u001b[0;34m\u001b[0m\u001b[0m\n",
            "\u001b[0;32m<__array_function__ internals>\u001b[0m in \u001b[0;36mamax\u001b[0;34m(*args, **kwargs)\u001b[0m\n",
            "\u001b[0;32m/usr/local/lib/python3.7/dist-packages/numpy/core/fromnumeric.py\u001b[0m in \u001b[0;36mamax\u001b[0;34m(a, axis, out, keepdims, initial, where)\u001b[0m\n\u001b[1;32m   2704\u001b[0m     \"\"\"\n\u001b[1;32m   2705\u001b[0m     return _wrapreduction(a, np.maximum, 'max', axis, None, out,\n\u001b[0;32m-> 2706\u001b[0;31m                           keepdims=keepdims, initial=initial, where=where)\n\u001b[0m\u001b[1;32m   2707\u001b[0m \u001b[0;34m\u001b[0m\u001b[0m\n\u001b[1;32m   2708\u001b[0m \u001b[0;34m\u001b[0m\u001b[0m\n",
            "\u001b[0;31mKeyboardInterrupt\u001b[0m: "
          ]
        }
      ]
    },
    {
      "cell_type": "code",
      "metadata": {
        "id": "u3U-n0xHJJ1C"
      },
      "source": [
        "#plot histograms of the distribution of each of the most important features\n",
        "\n",
        "def display_best_features(X, features):\n",
        "    n = len(features)\n",
        "    axes = npaxes(n)\n",
        "    for i in range(n):\n",
        "        f = features[i]\n",
        "        data = X[:,f]\n",
        "        axes[i].set_xlabel(\"Feature \" + str(f))\n",
        "        axes[i].hist(data, bins=\"sqrt\")\n",
        "\n",
        "#remove duplicates and sort (makes it back into a list)\n",
        "def get_best_features():\n",
        "  a = entropy_rank[:entropy_n]\n",
        "  b = fisher_rank[:fisher_n].tolist()\n",
        "  c = gini_rank[:gini_n].tolist()\n",
        "  return sorted(set(a + b + c))\n",
        "\n",
        "best_features = get_best_features()\n",
        "print(\"Best features:\", best_features)\n",
        "display_best_features(X_train, best_features)"
      ],
      "execution_count": null,
      "outputs": []
    },
    {
      "cell_type": "markdown",
      "metadata": {
        "id": "N4oXfrLlUdib"
      },
      "source": [
        "## Feature Selection"
      ]
    },
    {
      "cell_type": "markdown",
      "metadata": {
        "id": "dbmMrQJUPGVx"
      },
      "source": [
        "As seen in the previous feature extraction section, there were about 162,800s potential features. This large number needs to go through a robust feature selection processes to select the best-performing ones. The two ways that are used for feature selections are:\n",
        "\n",
        "#### First: the filter method\n",
        "The filter method uses statistical calculations to rank each feature based on uni-variate metrics such as variance, chi-square, and correlation coefficients. This method is implemented via SelectKbest from scikit-learn library in which the K represents the number of features to be selected. In this particular application, the statistical test used is chi-square and the K value used is set to 50. The output is a feature matrix of the selected ones that can be easily used in any machine learning method. Note that this mehtod took less than a minute to converage.\n",
        "\n",
        "#### Second: the wrapper method\n",
        "The wrapper method tests the performance of certian features in a machine learning algorithm and select the best-performing. In this application, the Recursive Feature Elimination (REF) is utilized to select the features; it works by starting with all features and continuously removing the least performing ones until the target number is reached. The machine learning algorithm used to test the features is the logistic regression. Initially, 50 features were specified from the total feature space; however, it would take a considerable about of time to go through all features and apply them to the regression model so as a result two options were investigated. First, specifying a step of 1000 in which will be skipped at each iteration; this option took two hours to converge and its accuracies were lower than the filter method. The other option was using a filter method to get a 1000 feature then applying the wrapper method to those 1000 features to get 50 features; this method only took one minute to coverage with higher accuraices. As a result, the second option is chosen as will be seen below. \n",
        "\n",
        "#### Cross-validation via logistic regression\n",
        "The features resulted from the two selection methods will be further tested in a simple classifier. The machine learning classifier used is logistic regression as it is considered a simple yet powerful classifier. Initially, cross-validation is implemented in which the training data is split into five folds. Then the logistic regression is applied inside the cross-validation algorithm resulting in five accuracies for each fold. For the filter method, the output of the method is used as the feature matrix in the logistic regression model resulting in an average accuracy of 62.4%. Similarly, the wrapper method output is a feature matrix (X_wrapper) that is plugged in the logistic regression model and generates average accuracy of 68.4%."
      ]
    },
    {
      "cell_type": "code",
      "metadata": {
        "id": "swRcB4iRUgSi",
        "colab": {
          "base_uri": "https://localhost:8080/"
        },
        "outputId": "8f8ac2f2-5a4e-4d11-d416-184b04c98efa"
      },
      "source": [
        "#Filter Method\n",
        "#use SelectKbest from sklearn that takes the matrix features, the labels\n",
        "#and number of features to select (k) then performs statistical tests to\n",
        "#select k number of features \n",
        "#the number of features targeted is 50\n",
        "\n",
        "skb = SelectKBest(chi2, k=50)\n",
        "X_filter = skb.fit_transform(X_train, y_train)\n",
        "print(\"Filter-method feature indices:\", skb.get_support(indices = True)) #this prints the indices of the selected features\n",
        "\n",
        "#The wrapper method used is the Recursive Feature Elimination (RFE) \n",
        "#it works by recursively removing features and building a model on the remaining\n",
        "#this method would go over all the features (162,000) and as a result takes a lot of time to run\n",
        "#A way to lower the computational time for the wrapper method is to use \n",
        "#the filter method initially and apply it to get 2000 feature out of the 162,000\n",
        "#then the REF is applied to the 1000 features to select 50 features\n",
        "\n",
        "\n",
        "#Filter method \n",
        "skb2 = SelectKBest(chi2, k=1000)\n",
        "X_filter2 = skb2.fit_transform(X_train, y_train)\n",
        "#print(skb2.get_support(indices = True))\n",
        "\n",
        "#Wrapper method \n",
        "\n",
        "model = LogisticRegression(solver='lbfgs', max_iter=10000)\n",
        "rfe = RFE(model, 50)\n",
        "X_wrapper2 = rfe.fit_transform(X_filter2, y_train)\n",
        "print(\"Wrapper-method feature indices:\", skb2.get_support(indices = True)[rfe.get_support(indices = True)]) #this prints the indicies of the selected features"
      ],
      "execution_count": 15,
      "outputs": [
        {
          "output_type": "stream",
          "text": [
            "Filter-method feature indices: [37400 37600 37800 38000 38199 38200 38399 38400 38600 38601 38800 38801\n",
            " 39000 39001 39199 39200 39201 39399 39400 39401 39600 39601 39602 39800\n",
            " 39801 77400 77600 77800 78000 78199 78200 78399 78400 78600 78601 78800\n",
            " 78801 79000 79001 79199 79200 79201 79399 79400 79401 79600 79601 79602\n",
            " 79800 79801]\n",
            "Wrapper-method feature indices: [    35  21199  21399  26399  34598  34801  36395  38195  38600  38800\n",
            "  38992  38996  39606  39609  40035  60999  61199  61399  63798  74598\n",
            "  74801  78600  78800  78992  78996  79399  79609 117286 117296 118290\n",
            " 118294 146060 147896 147933 149732 151814 153413 153650 155177 155249\n",
            " 155258 155321 160903 160975 161057 161129 161291 162739 162811 162817]\n"
          ],
          "name": "stdout"
        }
      ]
    },
    {
      "cell_type": "code",
      "metadata": {
        "colab": {
          "base_uri": "https://localhost:8080/",
          "height": 413
        },
        "id": "r6lHZ3TdqkUp",
        "outputId": "743ec139-5a8d-4814-f78d-5cfefddd7995"
      },
      "source": [
        "plot.figure(figsize = (8,5))\n",
        "\n",
        "plot.scatter([i for i in range(1,51)],skb2.get_support(indices = True)[rfe.get_support(indices = True)], label = \"Wrapper Method\")\n",
        "plot.scatter([i for i in range(1,51)],skb.get_support(indices = True), label = \"Filter Method\")\n",
        "plot.title('Feature Selection', fontdict = {'fontname':'Comic Sans MS','fontsize':20})\n",
        "plot.xlabel('Selected Features ',fontdict = {'fontsize' : 14, 'fontname':'Comic Sans MS'})\n",
        "plot.ylabel('All Features',fontdict = {'fontsize' : 14, 'fontname':'Comic Sans MS'})\n",
        "\n",
        "\n",
        "\n",
        "plot.legend()"
      ],
      "execution_count": 16,
      "outputs": [
        {
          "output_type": "execute_result",
          "data": {
            "text/plain": [
              "<matplotlib.legend.Legend at 0x7f3a9e69f410>"
            ]
          },
          "metadata": {
            "tags": []
          },
          "execution_count": 16
        },
        {
          "output_type": "stream",
          "text": [
            "findfont: Font family ['Comic Sans MS'] not found. Falling back to DejaVu Sans.\n",
            "findfont: Font family ['Comic Sans MS'] not found. Falling back to DejaVu Sans.\n"
          ],
          "name": "stderr"
        },
        {
          "output_type": "display_data",
          "data": {
            "image/png": "[encoded data removed]",
            "text/plain": [
              "<Figure size 576x360 with 1 Axes>"
            ]
          },
          "metadata": {
            "tags": [],
            "needs_background": "light"
          }
        }
      ]
    },
    {
      "cell_type": "code",
      "metadata": {
        "id": "g3c8Kv80kTij"
      },
      "source": [
        "#used to test each of the features\n",
        "def cross_val(X, y, plt):\n",
        "  random_index = np.random.permutation(len(X))\n",
        "  scores = []\n",
        "  for i in range(0,5):\n",
        "      #initilize the training/testing lists\n",
        "      Xs = []\n",
        "      Xt = []\n",
        "      ys = []\n",
        "      yt = []\n",
        "      #split into 5 folds randomly\n",
        "      for j in range(0,len(X)): \n",
        "          if (j%5 ==i):\n",
        "              Xs.append(X[random_index[j]])\n",
        "              ys.append(y[random_index[j]])\n",
        "          else: \n",
        "              Xt.append(X[random_index[j]])\n",
        "              yt.append(y[random_index[j]])\n",
        "      #convert list to array\n",
        "      Xs = np.asarray(Xs)\n",
        "      Xt = np.asarray(Xt)\n",
        "      ys = np.asarray(ys)\n",
        "      yt = np.asarray(yt)\n",
        "      \n",
        "      #apply logistic regression to the testing data\n",
        "      model = LogisticRegression(solver='saga', max_iter=10000)\n",
        "      #C = Inverse of regularization strength; must be a positive float --> smaller values specify stronger regularization.\n",
        "      model.fit(Xt, yt)\n",
        "      pred = model.predict(Xs)\n",
        "      score = model.score(Xs, ys)\n",
        "      scores += [score]\n",
        "      print((round(score,3)))\n",
        "\n",
        "\n",
        "      # plot the performance \n",
        "      plot.plot(range(1, len(scores)+1), scores)\n",
        "      plot.yticks([0,0.2,0.4,0.6,0.8,1])\n",
        "      plot.xticks([0, 1, 2, 3, 4, 5])\n",
        "      plot.title(plt, fontsize = 17)\n",
        "      plot.xlabel(\"Subset of features\", fontsize = 14)\n",
        "      plot.ylabel(\"Cross validation score \", fontsize =14)\n",
        "      # plot.show()\n",
        "  print(\"Mean score:\", round(sum(scores) / len(scores),3))"
      ],
      "execution_count": 17,
      "outputs": []
    },
    {
      "cell_type": "code",
      "metadata": {
        "colab": {
          "base_uri": "https://localhost:8080/",
          "height": 130
        },
        "id": "CrDW3-_ZnBB_",
        "outputId": "f971746b-b8de-4c77-d137-179656200dfa"
      },
      "source": [
        "#used to test each of the features\n",
        "random_index = np.random.permutation(len(X_filter))\n",
        "scores = []\n",
        "for i in range(0,5):\n",
        "    #initilize the training/testing lists\n",
        "    Xs = []\n",
        "    Xt = []\n",
        "    ys = []\n",
        "    yt = []\n",
        "    #split into 5 folds randomly\n",
        "    for j in range(0,len(X_filter)): \n",
        "        if (j%5 ==i):\n",
        "            Xs.append(X_filter[random_index[j]])\n",
        "            ys.append(y_train[random_index[j]])\n",
        "        else: \n",
        "            Xt.append(X_filter[random_index[j]])\n",
        "            yt.append(y_train[random_index[j]])\n",
        "    #convert list to array\n",
        "    Xs = np.asarray(Xs)\n",
        "    Xt = np.asarray(Xt)\n",
        "    ys = np.asarray(ys)\n",
        "    yt = np.asarray(yt)\n",
        "    \n",
        "    #apply logistic regression to the testing data\n",
        "    model = LogisticRegression(solver='saga', max_iter=10000)\n",
        "    #C = Inverse of regularization strength; must be a positive float --> smaller values specify stronger regularization.\n",
        "    model.fit(Xt, yt)\n",
        "    pred = model.predict(Xs)\n",
        "    score = model.score(Xs, ys)\n",
        "    scores += [score]\n",
        "    print((round(score,3)))\n",
        "\n",
        "\n",
        "    \n",
        "\n",
        "    #used to test each of the features\n",
        "random_index = np.random.permutation(len(X_filter))\n",
        "scores2 = []\n",
        "for i in range(0,5):\n",
        "    #initilize the training/testing lists\n",
        "    Xs = []\n",
        "    Xt = []\n",
        "    ys = []\n",
        "    yt = []\n",
        "    #split into 5 folds randomly\n",
        "    for j in range(0,len(X_wrapper2)): \n",
        "        if (j%5 ==i):\n",
        "            Xs.append(X_wrapper2[random_index[j]])\n",
        "            ys.append(y_train[random_index[j]])\n",
        "        else: \n",
        "            Xt.append(X_wrapper2[random_index[j]])\n",
        "            yt.append(y_train[random_index[j]])\n",
        "    #convert list to array\n",
        "    Xs = np.asarray(Xs)\n",
        "    Xt = np.asarray(Xt)\n",
        "    ys = np.asarray(ys)\n",
        "    yt = np.asarray(yt)\n",
        "    \n",
        "    #apply logistic regression to the testing data\n",
        "    model = LogisticRegression(solver='saga', max_iter=10000)\n",
        "    #C = Inverse of regularization strength; must be a positive float --> smaller values specify stronger regularization.\n",
        "    model.fit(Xt, yt)\n",
        "    pred = model.predict(Xs)\n",
        "    score = model.score(Xs, ys)\n",
        "    scores2 += [score]\n",
        "    print((round(score,3)))\n",
        "\n",
        "\n",
        "    # plot the performance \n",
        "  # plot the performance \n",
        "  plot.plot(range(1, len(scores)+1), scores,)\n",
        "  print(\"Mean score:\", round(sum(scores) / len(scores),3))\n",
        "  plot.plot(range(1, len(scores2)+1), scores2,)\n",
        "  plot.yticks([0,0.2,0.4,0.6,0.8,1])\n",
        "  plot.xticks([0, 1, 2, 3, 4, 5])\n",
        "  plot.title(plot, fontsize = 17)\n",
        "  plot.xlabel(\"Subset of features\", fontsize = 14)\n",
        "  plot.ylabel(\"Cross validation score \", fontsize =14)\n",
        "  # plot.show()\n",
        "  print(\"Mean score:\", round(sum(scores2) / len(scores2),3))\n",
        "  labels = [\"Filter\",\"Wrapper\"]\n",
        "\n",
        "  plot.legend(labels)"
      ],
      "execution_count": 18,
      "outputs": [
        {
          "output_type": "error",
          "ename": "IndentationError",
          "evalue": "ignored",
          "traceback": [
            "\u001b[0;36m  File \u001b[0;32m\"<ipython-input-18-50a23d2e5dae>\"\u001b[0;36m, line \u001b[0;32m71\u001b[0m\n\u001b[0;31m    plot.plot(range(1, len(scores)+1), scores,)\u001b[0m\n\u001b[0m                                               ^\u001b[0m\n\u001b[0;31mIndentationError\u001b[0m\u001b[0;31m:\u001b[0m unindent does not match any outer indentation level\n"
          ]
        }
      ]
    },
    {
      "cell_type": "code",
      "metadata": {
        "id": "HEE_QqNAkUOa"
      },
      "source": [
        "#apply cross validation to the filter method features\n",
        "plot.figure(figsize = (8,5))\n",
        "\n",
        "cross_val(X_filter, y_train, \"Filter - feature selection\")\n"
      ],
      "execution_count": null,
      "outputs": []
    },
    {
      "cell_type": "code",
      "metadata": {
        "id": "tZgtMO7fkT8j"
      },
      "source": [
        "#apply the cross validation to the wrapper method features\n",
        "plot.figure(figsize = (8,5))\n",
        "\n",
        "cross_val(X_wrapper2, y_train, \"Wrapper - feature selection\")"
      ],
      "execution_count": null,
      "outputs": []
    },
    {
      "cell_type": "markdown",
      "metadata": {
        "id": "-RcW-f4FUmyQ"
      },
      "source": [
        "## AdaBoost\n",
        "AdaBoost is taken care of by sklearn, using logistic regression as the base model and 5-fold cross-validation. It produces similar results to the basic model: increasing the hyperparameter T doesn't produce any significant change with this setup."
      ]
    },
    {
      "cell_type": "code",
      "metadata": {
        "id": "sVqGG7-pUo4I"
      },
      "source": [
        "def adaboost(T, cv_count = 5):\n",
        "  classifier = AdaBoostClassifier(LogisticRegression(max_iter=10000), n_estimators=T,learning_rate=0.4)\n",
        "  scores = cross_validate(classifier, X_wrapper2, y_train, cv=cv_count, scoring = make_scorer(accuracy_score))[\"test_score\"]\n",
        "  print(\"AdaBoost(\", T, \") test scores:\", scores)\n",
        "  print(\"Average:\", sum(scores)/len(scores))\n",
        "  return sum(scores)/len(scores)"
      ],
      "execution_count": 36,
      "outputs": []
    },
    {
      "cell_type": "code",
      "metadata": {
        "id": "bKcJixrxUqww",
        "colab": {
          "base_uri": "https://localhost:8080/",
          "height": 512
        },
        "outputId": "208e0966-e5c5-4669-9931-6fb345e62b9a"
      },
      "source": [
        "avg_perf = []\n",
        "\n",
        "avg_perf += [adaboost(1)]\n",
        "avg_perf += [adaboost(10)]\n",
        "avg_perf += [adaboost(100)]\n",
        "avg_perf += [adaboost(1000)]\n",
        "plot.figure(figsize = (8,5))\n",
        "\n",
        "plot.plot([1, 10, 100, 1000], avg_perf)\n",
        "plot.xscale('log')\n",
        "plot.yticks([0, 0.25, 0.5, 0.75, 1])\n",
        "plot.title(\"Performance of Adaboost\", fontsize = 14)\n",
        "plot.xlabel(\"Number of Estimators\", fontsize = 14)\n",
        "plot.ylabel(\"Average Accuracy\", fontsize = 14)"
      ],
      "execution_count": 37,
      "outputs": [
        {
          "output_type": "stream",
          "text": [
            "AdaBoost( 1 ) test scores: [0.6  0.58 0.58 0.58 0.58]\n",
            "Average: 0.584\n",
            "AdaBoost( 10 ) test scores: [0.64 0.56 0.66 0.62 0.72]\n",
            "Average: 0.64\n",
            "AdaBoost( 100 ) test scores: [0.72 0.54 0.72 0.68 0.7 ]\n",
            "Average: 0.672\n",
            "AdaBoost( 1000 ) test scores: [0.72 0.66 0.86 0.7  0.8 ]\n",
            "Average: 0.7479999999999999\n"
          ],
          "name": "stdout"
        },
        {
          "output_type": "execute_result",
          "data": {
            "text/plain": [
              "Text(0, 0.5, 'Average Accuracy')"
            ]
          },
          "metadata": {
            "tags": []
          },
          "execution_count": 37
        },
        {
          "output_type": "display_data",
          "data": {
            "image/png": "[encoded data removed]",
            "text/plain": [
              "<Figure size 576x360 with 1 Axes>"
            ]
          },
          "metadata": {
            "tags": [],
            "needs_background": "light"
          }
        }
      ]
    },
    {
      "cell_type": "markdown",
      "metadata": {
        "id": "nXpRyvqmUttb"
      },
      "source": [
        "# Improving Performance\n",
        "In order to improve the performance to an accuracy above 70%, we decided to use a CNN model and the hyperopt module to find the best hyperparameter combinations (i.e., kernel size, stride, dropout probability, number of convolutional and max pooling layers, and activation function) with three dense layers that achieve the best accuracy by cross-validating the training data.\n",
        "\n",
        "We downsized the images to a size of 100x100 and evaluated the model 10 times with different hyperparameter combinations. The best accuracy achieved was when the activation fuction in the layers was ReLU, convolutional kernel size was 3, convolutional stride was 1, dropout probability was 0.22 and using 2 convolutional layers and 1 max pooling layer with an accuracy of 92.4%."
      ]
    },
    {
      "cell_type": "code",
      "metadata": {
        "id": "XtBxQpNshZyp",
        "colab": {
          "base_uri": "https://localhost:8080/"
        },
        "outputId": "05ae7dac-4fb2-4b61-dcb7-0c1713c07cd1"
      },
      "source": [
        "device_name = tf.test.gpu_device_name()\n",
        "if device_name != '/device:GPU:0':\n",
        "  print(\n",
        "      '\\n\\nThis error most likely means that this notebook is not '\n",
        "      'configured to use a GPU.  Change this in Notebook Settings via the '\n",
        "      'command palette (cmd/ctrl-shift-P) or the Edit menu.\\n\\n')\n",
        "  raise SystemError('GPU device not found')\n",
        "\n",
        "\n",
        "#Reference link for cross-validation with CNN: https://medium.com/@navmcgill/k-fold-cross-validation-in-keras-convolutional-neural-networks-835bed559d04\n",
        "def optimize_cnn(hyperparameter):\n",
        "  \n",
        "  layers = [Conv2D(32, kernel_size=hyperparameter['conv_kernel_size'], strides = hyperparameter['conv_stride'], activation=hyperparameter['activation'], input_shape=(100,100,3)), \n",
        "            Conv2D(32, kernel_size=hyperparameter['conv_kernel_size'], strides = hyperparameter['conv_stride'], activation=hyperparameter['activation']), \n",
        "            MaxPooling2D(pool_size=(2,2),padding='same'), Dropout(hyperparameter['dropout_prob']),\n",
        "            Conv2D(64, kernel_size=hyperparameter['conv_kernel_size'], strides = hyperparameter['conv_stride'], activation=hyperparameter['activation']),\n",
        "            Conv2D(64, kernel_size=hyperparameter['conv_kernel_size'], strides = hyperparameter['conv_stride'], activation=hyperparameter['activation']), \n",
        "            MaxPooling2D(pool_size=(2,2),padding='same'), Dropout(hyperparameter['dropout_prob']),\n",
        "            Conv2D(32, kernel_size=hyperparameter['conv_kernel_size'], strides = hyperparameter['conv_stride'], activation=hyperparameter['activation']),\n",
        "            Conv2D(32, kernel_size=hyperparameter['conv_kernel_size'], strides = hyperparameter['conv_stride'], activation=hyperparameter['activation']),\n",
        "            MaxPooling2D(pool_size=(2,2),padding='same'), Dropout(hyperparameter['dropout_prob']),\n",
        "            Flatten(),\n",
        "            Dense(512,activation='relu'), #dense layer 1\n",
        "            Dense(256,activation='relu'), #dense layer 2\n",
        "            Dense(2,activation='softmax'), #dense layer 3\n",
        "            ] \n",
        "\n",
        "  # Define model using hyperparameters \n",
        "  used_layers = [layers[i] for i in hyperparameter['layer_ids']]+layers[12:]\n",
        "  cnn_model = Sequential(used_layers)\n",
        "  #print(cnn_model.summary())\n",
        "  cnn_model.compile(optimizer='adam', loss='categorical_crossentropy', metrics=['accuracy'])\n",
        "  \n",
        "  v_scores = []\n",
        "  t_scores = []\n",
        "  start_time = time.time()\n",
        "  for i in range(5):\n",
        "    # tqdm_callback = tfa.callbacks.TQDMProgressBar()\n",
        "    X_train_fold, X_val_fold, y_train_fold, y_val_fold = train_test_split(X_train_cnn, y_train, test_size=0.20, random_state = np.random.randint(1,1000, 1)[0])\n",
        "    results = cnn_model.fit(X_train_fold, to_categorical(y_train_fold), validation_data=(X_val_fold, to_categorical(y_val_fold)), epochs=30, batch_size=52, verbose=0)\n",
        "    t_performance = results.history['accuracy'][-1]\n",
        "    _, v_performance = cnn_model.evaluate(X_val_fold, to_categorical(y_val_fold), verbose = 0)\n",
        "    v_scores.append(v_performance)\n",
        "    t_scores.append(t_performance)\n",
        "  end_time = time.time()\n",
        "  print(\"Training accuracy: {}\\nTraining time: {}\".format(sum(t_scores)/len(t_scores), end_time-start_time))\n",
        "\n",
        "  # Evaluate accuracy on validation data\n",
        "  #performance = cnn_model.evaluate(fnn_val_proc, to_categorical(val_labels), verbose=0)\n",
        "  averagePerformance = sum(v_scores)/len(v_scores)\n",
        "  print(\"Hyperparameters: \", hyperparameter, \"Validation Accuracy: \", averagePerformance)\n",
        "  print(\"----------------------------------------------------\")\n",
        "  # We want to minimize loss i.e. negative of accuracy\n",
        "  return({\"status\": STATUS_OK, \"loss\": -1*averagePerformance, \"model\":cnn_model,\"params\":hyperparameter,\"acc\":averagePerformance})\n",
        "\n",
        "# Define search space for hyper-parameters\n",
        "space = {\n",
        "    'layer_ids': hp.choice('layer_ids',[[0,2,3,4,6,7],[0,1,2,3],[0,2,3,8,10,11],[0,2,3]]),\n",
        "    'conv_kernel_size': hp.choice('conv_kernel_size',[1,3,5]),\n",
        "    'conv_stride': hp.choice('conv_stride',[1,2]),\n",
        "    'activation': hp.choice('activation', ['relu','selu','tanh']),\n",
        "    'dropout_prob': hp.uniform('dropout_prob',0,0.35),\n",
        "}\n",
        "\n",
        "trials = Trials()\n",
        "with tf.device('/device:GPU:0'):\n",
        "  # Find the best hyperparameters\n",
        "  best = fmin(\n",
        "          optimize_cnn,\n",
        "          space,\n",
        "          algo=tpe.suggest,\n",
        "          trials=trials,\n",
        "          max_evals=10,\n",
        "          verbose=0,\n",
        "          show_progressbar=False\n",
        "      )\n",
        "  \n",
        "  test_result = trials.results[np.argmin([r['loss'] for r in trials.results])] #best trial info\n",
        "  best_model = test_result['model']\n",
        "  best_params = test_result['params']\n",
        "  best_acc = test_result['acc']\n",
        "\n",
        "  print(\"\\n==================================\\n\")\n",
        "  print(\"Best Hyperparameters:\", best_params) #the output here doesn't makes sense because it prints indices into the hp.choice objects\n",
        "  print(\"Accuracy:\", best_acc)"
      ],
      "execution_count": 43,
      "outputs": [
        {
          "output_type": "stream",
          "text": [
            "Training accuracy: 0.9580000042915344\n",
            "Training time: 12.796416759490967\n",
            "Hyperparameters: \n",
            "{'activation': 'tanh', 'conv_kernel_size': 3, 'conv_stride': 2, 'dropout_prob': 0.26295954043167724, 'layer_ids': (0, 2, 3, 4, 6, 7)}\n",
            "Validation Accuracy: \n",
            "0.8519999980926514\n",
            "----------------------------------------------------\n",
            "Training accuracy: 0.9329999923706055\n",
            "Training time: 13.141404628753662\n",
            "Hyperparameters: \n",
            "{'activation': 'relu', 'conv_kernel_size': 5, 'conv_stride': 2, 'dropout_prob': 0.1171665923430434, 'layer_ids': (0, 2, 3, 4, 6, 7)}\n",
            "Validation Accuracy: \n",
            "0.871999990940094\n",
            "----------------------------------------------------\n",
            "Training accuracy: 0.9690000057220459\n",
            "Training time: 18.41886019706726\n",
            "Hyperparameters: \n",
            "{'activation': 'tanh', 'conv_kernel_size': 5, 'conv_stride': 1, 'dropout_prob': 0.11396514384320573, 'layer_ids': (0, 2, 3, 8, 10, 11)}\n",
            "Validation Accuracy: \n",
            "0.8399999856948852\n",
            "----------------------------------------------------\n",
            "Training accuracy: 0.947000014781952\n",
            "Training time: 16.236077308654785\n",
            "Hyperparameters: \n",
            "{'activation': 'relu', 'conv_kernel_size': 3, 'conv_stride': 1, 'dropout_prob': 0.3236221355917098, 'layer_ids': (0, 2, 3, 8, 10, 11)}\n",
            "Validation Accuracy: \n",
            "0.8440000057220459\n",
            "----------------------------------------------------\n",
            "Training accuracy: 0.95\n",
            "Training time: 22.19117259979248\n",
            "Hyperparameters: \n",
            "{'activation': 'tanh', 'conv_kernel_size': 1, 'conv_stride': 1, 'dropout_prob': 0.08675445499221522, 'layer_ids': (0, 1, 2, 3)}\n",
            "Validation Accuracy: \n",
            "0.9\n",
            "----------------------------------------------------\n",
            "Training accuracy: 0.9740000009536743\n",
            "Training time: 12.434858798980713\n",
            "Hyperparameters: \n",
            "{'activation': 'selu', 'conv_kernel_size': 5, 'conv_stride': 2, 'dropout_prob': 0.16147760401070005, 'layer_ids': (0, 2, 3)}\n",
            "Validation Accuracy: \n",
            "0.9\n",
            "----------------------------------------------------\n",
            "Training accuracy: 0.9739999890327453\n",
            "Training time: 18.95859408378601\n",
            "Hyperparameters: \n",
            "{'activation': 'selu', 'conv_kernel_size': 3, 'conv_stride': 1, 'dropout_prob': 0.3233865165376948, 'layer_ids': (0, 2, 3)}\n",
            "Validation Accuracy: \n",
            "0.8920000076293946\n",
            "----------------------------------------------------\n",
            "Training accuracy: 0.956000006198883\n",
            "Training time: 16.818476915359497\n",
            "Hyperparameters: \n",
            "{'activation': 'relu', 'conv_kernel_size': 3, 'conv_stride': 1, 'dropout_prob': 0.2472595646519847, 'layer_ids': (0, 2, 3, 8, 10, 11)}\n",
            "Validation Accuracy: \n",
            "0.8360000133514405\n",
            "----------------------------------------------------\n",
            "Training accuracy: 0.9579999923706055\n",
            "Training time: 12.110256433486938\n",
            "Hyperparameters: \n",
            "{'activation': 'relu', 'conv_kernel_size': 3, 'conv_stride': 2, 'dropout_prob': 0.07122903816688403, 'layer_ids': (0, 2, 3, 8, 10, 11)}\n",
            "Validation Accuracy: \n",
            "0.8480000019073486\n",
            "----------------------------------------------------\n",
            "Training accuracy: 0.9420000076293945\n",
            "Training time: 22.553489685058594\n",
            "Hyperparameters: \n",
            "{'activation': 'selu', 'conv_kernel_size': 1, 'conv_stride': 1, 'dropout_prob': 0.2282456862866893, 'layer_ids': (0, 1, 2, 3)}\n",
            "Validation Accuracy: \n",
            "0.8319999933242798\n",
            "----------------------------------------------------\n",
            "\n",
            "==================================\n",
            "\n",
            "Best Hyperparameters: {'activation': 'tanh', 'conv_kernel_size': 1, 'conv_stride': 1, 'dropout_prob': 0.08675445499221522, 'layer_ids': (0, 1, 2, 3)}\n",
            "Accuracy: 0.9\n"
          ],
          "name": "stdout"
        }
      ]
    },
    {
      "cell_type": "markdown",
      "metadata": {
        "id": "atUQfnBf8U0h"
      },
      "source": [
        "# Bonus (Test Accuracy)\n",
        "While we improve the performance by more than 20% using a CNN model, we did not consider the following:\n",
        "\n",
        "\n",
        "\n",
        "1.   Normalizing the training dataset.\n",
        "2.   Using a binary classificator instead of a categorical classificator.\n",
        "3.   Making more than 10 evaluations in a single run.\n",
        "\n",
        "We did consider those three things for the bonus part.\n",
        "\n",
        "\n"
      ]
    },
    {
      "cell_type": "markdown",
      "metadata": {
        "id": "4ohWVlsAQe2B"
      },
      "source": [
        "## Normalization of datasets\n",
        "The function below gets the images filenames from the dataset given and return all of them in a numpy array. This is used for the testing dataset since we need them to create the csv file with the predictions."
      ]
    },
    {
      "cell_type": "code",
      "metadata": {
        "id": "KN-6fxTl8Y3b"
      },
      "source": [
        "#Gets image filenames (used for the testing dataset)\n",
        "def get_imgs_names(dataframe): \n",
        "  filenames = dataframe['filename']\n",
        "  return filenames.to_numpy()"
      ],
      "execution_count": null,
      "outputs": []
    },
    {
      "cell_type": "markdown",
      "metadata": {
        "id": "HqKK9CS9VN2B"
      },
      "source": [
        "We load the datasets and normalize the data using Standard Scaler, which fits the training dataset and transforms it. Then, it uses the same parameters to normalize (i.e., transforms) the testing dataset."
      ]
    },
    {
      "cell_type": "code",
      "metadata": {
        "id": "Q6ZbZLwYRm3d"
      },
      "source": [
        "#loads the datasets and normalizes it\n",
        "#ref: https://datascience.stackexchange.com/questions/27615/should-we-apply-normalization-to-test-data-as-well\n",
        "scaler = StandardScaler()\n",
        "\n",
        "X_train = get_imgs(train_data, train_dir_cnn)\n",
        "X_train = scaler.fit_transform(X_train.reshape(-1, X_train.shape[-1])).reshape(X_train.shape)\n",
        "\n",
        "X_test = get_imgs(test_data, test_dir_cnn)\n",
        "X_test = scaler.transform(X_test.reshape(-1, X_test.shape[-1])).reshape(X_test.shape)\n",
        "X_test_filenames = get_imgs_names(test_data)"
      ],
      "execution_count": null,
      "outputs": []
    },
    {
      "cell_type": "markdown",
      "metadata": {
        "id": "TUc_gN9iVc4j"
      },
      "source": [
        "## Changes to the CNN model for more accurate decisions on the test dataset\n",
        "We used the same CNN model with the following changes:\n",
        "\n",
        "1. Normalize data (as explained above).\n",
        "2. Change the model from multi-class classification to binary classification since this is a binary classification task. In other words, the last dense layer uses sigmoid activation function instead of softmax and loss is changed to binary_crossentropy.\n",
        "\n",
        "We evaluated the model 40 times using hyperopt in more than three runs to find the best two accuracy scores (i.e., best models) using cross-validation on the training dataset."
      ]
    },
    {
      "cell_type": "code",
      "metadata": {
        "id": "EkKnLNDYV3Se"
      },
      "source": [
        "device_name = tf.test.gpu_device_name()\n",
        "if device_name != '/device:GPU:0':\n",
        "  print(\n",
        "      '\\n\\nThis error most likely means that this notebook is not '\n",
        "      'configured to use a GPU.  Change this in Notebook Settings via the '\n",
        "      'command palette (cmd/ctrl-shift-P) or the Edit menu.\\n\\n')\n",
        "  raise SystemError('GPU device not found')\n",
        "\n",
        "#Reference link for cross-validation with CNN: https://medium.com/@navmcgill/k-fold-cross-validation-in-keras-convolutional-neural-networks-835bed559d04\n",
        "def optimize_cnn(hyperparameter):\n",
        "  \n",
        "  layers = [Conv2D(32, kernel_size=hyperparameter['conv_kernel_size'], strides = hyperparameter['conv_stride'], activation=hyperparameter['activation'], input_shape=(100,100,3)), \n",
        "            Conv2D(32, kernel_size=hyperparameter['conv_kernel_size'], strides = hyperparameter['conv_stride'], activation=hyperparameter['activation']), \n",
        "            MaxPooling2D(pool_size=(2,2),padding='same'), Dropout(hyperparameter['dropout_prob']),\n",
        "            Conv2D(64, kernel_size=hyperparameter['conv_kernel_size'], strides = hyperparameter['conv_stride'], activation=hyperparameter['activation']),\n",
        "            Conv2D(64, kernel_size=hyperparameter['conv_kernel_size'], strides = hyperparameter['conv_stride'], activation=hyperparameter['activation']), \n",
        "            MaxPooling2D(pool_size=(2,2),padding='same'), Dropout(hyperparameter['dropout_prob']),\n",
        "            Conv2D(32, kernel_size=hyperparameter['conv_kernel_size'], strides = hyperparameter['conv_stride'], activation=hyperparameter['activation']),\n",
        "            Conv2D(32, kernel_size=hyperparameter['conv_kernel_size'], strides = hyperparameter['conv_stride'], activation=hyperparameter['activation']),\n",
        "            MaxPooling2D(pool_size=(2,2),padding='same'), Dropout(hyperparameter['dropout_prob']),\n",
        "            Flatten(),\n",
        "            Dense(512,activation='relu'), #dense layer 1\n",
        "            Dense(256,activation='relu'), #dense layer 2\n",
        "            Dense(1,activation='sigmoid'), #dense layer 3\n",
        "            ] \n",
        "\n",
        "  # Define model using hyperparameters \n",
        "  used_layers = [layers[i] for i in hyperparameter['layer_ids']]+layers[12:]\n",
        "  cnn_model = Sequential(used_layers)\n",
        "  cnn_model.compile(optimizer='adam', loss='binary_crossentropy', metrics=['accuracy'])\n",
        "  \n",
        "  v_scores = []\n",
        "  t_scores = []\n",
        "  start_time = time.time()\n",
        "  for i in range(5):\n",
        "    # tqdm_callback = tfa.callbacks.TQDMProgressBar()\n",
        "    X_train_fold, X_val_fold, y_train_fold, y_val_fold = train_test_split(X_train, y_train, test_size=0.20, random_state = np.random.randint(1,1000, 1)[0])\n",
        "    results = cnn_model.fit(X_train_fold, y_train_fold, validation_data=(X_val_fold, y_val_fold), epochs=30, batch_size=52, verbose=0)\n",
        "    t_performance = results.history['accuracy'][-1]\n",
        "    _, v_performance = cnn_model.evaluate(X_val_fold, y_val_fold, verbose = 0)\n",
        "    v_scores.append(v_performance)\n",
        "    t_scores.append(t_performance)\n",
        "  end_time = time.time()\n",
        "  print(\"Training accuracy: {}\\nTraining time: {}\".format(sum(t_scores)/len(t_scores), end_time-start_time))\n",
        "\n",
        "  averagePerformance = sum(v_scores)/len(v_scores)\n",
        "  print(\"Hyperparameters: \", hyperparameter, \"Validation Accuracy: \", averagePerformance)\n",
        "  print(\"----------------------------------------------------\")\n",
        "  # We want to minimize loss i.e. negative of accuracy\n",
        "  return({\"status\": STATUS_OK, \"loss\": -1*averagePerformance, \"model\":cnn_model,\"params\":hyperparameter,\"acc\":averagePerformance})\n",
        "\n",
        "# Define search space for hyper-parameters\n",
        "space = {\n",
        "    'layer_ids': hp.choice('layer_ids',[[0,2,3,4,6,7],[0,1,2,3],[0,2,3,8,10,11],[0,2,3]]),\n",
        "    'conv_kernel_size': hp.choice('conv_kernel_size',[1,3,5]),\n",
        "    'conv_stride': hp.choice('conv_stride',[1,2]),\n",
        "    'activation': hp.choice('activation', ['relu','selu','tanh']),\n",
        "    'dropout_prob': hp.uniform('dropout_prob',0,0.35),\n",
        "}\n",
        "\n",
        "trials = Trials()\n",
        "with tf.device('/device:GPU:0'):\n",
        "  # Find the best hyperparameters\n",
        "  best = fmin(\n",
        "          optimize_cnn,\n",
        "          space,\n",
        "          algo=tpe.suggest,\n",
        "          trials=trials,\n",
        "          max_evals=40,\n",
        "          verbose=0,\n",
        "          show_progressbar=False\n",
        "      )"
      ],
      "execution_count": null,
      "outputs": []
    },
    {
      "cell_type": "markdown",
      "metadata": {
        "id": "kWwlzyTyV92C"
      },
      "source": [
        "## Best two models\n",
        "We get the best two results and predict classes on the testing dataset using the best two models."
      ]
    },
    {
      "cell_type": "code",
      "metadata": {
        "id": "wWGexrk8WMmz"
      },
      "source": [
        "#sort by loss value\n",
        "trials_sorted = sorted(trials.results, key = lambda i: i['loss'])\n",
        "\n",
        "#get top 2 models\n",
        "f_best_model = trials_sorted[0]['model']\n",
        "s_best_model = trials_sorted[1]['model']\n",
        "\n",
        "#print results with hyperparameters\n",
        "print(\"First best validation accuracy:\", trials_sorted[0]['acc'], \"with hyperparameters:\", trials_sorted[0]['params'])\n",
        "print(\"Second best validation accuracy:\", trials_sorted[1]['acc'], \"with hyperparameters:\", trials_sorted[1]['params'])\n",
        "\n",
        "#predictions to be written to csv file\n",
        "f_predictions = f_best_model.predict_classes(X_test)\n",
        "s_predictions = s_best_model.predict_classes(X_test)"
      ],
      "execution_count": null,
      "outputs": []
    },
    {
      "cell_type": "markdown",
      "metadata": {
        "id": "8yyVAxXQWVUh"
      },
      "source": [
        "We save the predictions on testing dataset using the best two models in a csv file."
      ]
    },
    {
      "cell_type": "code",
      "metadata": {
        "id": "nEXbfLJCWfxZ"
      },
      "source": [
        "file = 'bonus_v2.csv'\n",
        "\n",
        "with open(basePath+\"/\"+file, 'w', newline='') as csvfile:\n",
        "    fieldnames = ['filename', 'model_1', 'model_2']\n",
        "    writer = csv.DictWriter(csvfile, fieldnames=fieldnames)\n",
        "    writer.writeheader()\n",
        "\n",
        "    for i in range(len(f_predictions)):\n",
        "      writer.writerow({'filename': X_test_filenames[i], 'model_1': f_predictions[i][0], 'model_2': s_predictions[i][0]})"
      ],
      "execution_count": null,
      "outputs": []
    },
    {
      "cell_type": "markdown",
      "metadata": {
        "id": "1WIhbiTGWnba"
      },
      "source": [
        "In multiple runs, we got better models, so we decided to get the best two runs (i.e., 4 decisions in total) and merge the best two decisions (according to the cross-validation accuracy) across both files into a single csv file called \"bonus_final.csv\".\n",
        "\n",
        "The best two models are the following:\n",
        "\n",
        "Best Model 1:\n",
        "* Validation accuracy: 96.40%\n",
        "* Hyperparameters:\n",
        "    1. Activation function: ReLu\n",
        "    2. Kernel size: 3\n",
        "    3. Stride: 2\n",
        "    4. Dropout: 0.2610\n",
        "    5. Convolutional layers: 1 \n",
        "    6. Max pooling layers: 1\n",
        "\n",
        "Best Model 2:\n",
        "* Validation accuracy: 96% \n",
        "* Hyperparameters:\n",
        "  1. Activation function: SeLu\n",
        "  2. Kernel size: 3\n",
        "  3. Stride: 1\n",
        "  4. Dropout: 0.0537\n",
        "  5. Convolutional layers: 2\n",
        "  6. Max pooling layers: 1"
      ]
    },
    {
      "cell_type": "code",
      "metadata": {
        "id": "8ClMGm5wW8aY"
      },
      "source": [
        "file1 = 'bonus_v2.csv'\n",
        "file2 = 'bonus.csv'\n",
        "\n",
        "reader1 = csv.DictReader(open(basePath+\"/\"+file1))\n",
        "reader2 = csv.DictReader(open(basePath+\"/\"+file2))\n",
        "model1 = []\n",
        "model2 = []\n",
        "for row in reader1:\n",
        "  model1.append(row['model_1'])\n",
        "\n",
        "for row in reader2:\n",
        "  model2.append(row['model_1'])\n",
        "\n",
        "fieldnames = ['filename', 'model_1', 'model_2']\n",
        "\n",
        "writer = csv.DictWriter(open(basePath+\"/\"+'bonus_final.csv','w',newline=''),fieldnames=fieldnames)\n",
        "writer.writeheader()\n",
        "\n",
        "for i in range(len(f_predictions)):\n",
        "  writer.writerow({'filename': X_test_filenames[i], 'model_1': model1[i], 'model_2': model2[i]})"
      ],
      "execution_count": 28,
      "outputs": []
    },
    {
      "cell_type": "markdown",
      "metadata": {
        "id": "lDo1P8RPHHPt"
      },
      "source": [
        "# Reporting Other Teams' Work\n",
        "\n",
        "## Preprocessing\n",
        "\n",
        "| Team | Preprocessing size |\n",
        "|-|-|\n",
        "| 1 | 64x64 |\n",
        "| 3 | 224x224* |\n",
        "| 5 | 224x224* |\n",
        "| 7 | ? |\n",
        "| 9 | 400x400 |\n",
        "| 11 | 200x200 |\n",
        "| 13 | 128x128 (64x64 for AdaBoost) |\n",
        "| 15 | Original image size |\n",
        "\n",
        "*224x224 is the VGG input size\n",
        "\n",
        "## Extracted Features\n",
        "\n",
        "| Team | Src img | Gabor | Edges | HOG | Other |\n",
        "|-|-|-|-|-|-|\n",
        "| 1 | gray | ✓ | ✓ | ✓ | Mean pixel value |\n",
        "| 3 |  | x16 | ✓ | ✓ | SURF |\n",
        "| 5 |  |  |  |  | VGG19 output from src images |\n",
        "| 7 | ✓ | ✓ | ✓ | ✓ | Age, gender, location; xrv (pretrained xray-parsing neural network, 18-dimensional output); mean pixel value |\n",
        "| 9 |  | ✓ |  | ✓ | SIFT, SURF |\n",
        "| 11 |  |  |  | ✓ |  |\n",
        "| 13 |  | ✓ |  | ✓ | Computer vision toolbox |\n",
        "| 15 | gray |  | ✓ | ✓ | Mean pixel value |\n",
        "\n",
        "## Feature Exploration\n",
        "\n",
        "| Team | Feature Scoring systems |\n",
        "|-|-|\n",
        "| 1 | Fisher's score, gini index and conditional entropy |\n",
        "| 3 | fisher score |\n",
        "| 5 | ? |\n",
        "| 7 | fisher score |\n",
        "| 9 | ? |\n",
        "| 11 | ? |\n",
        "| 13 |  - |\n",
        "| 15 |  - |\n",
        "\n",
        "## Feature Selection\n",
        "\n",
        "| Team | Filter | Wrapper | Dimensionality Reduction | Base Estimator |\n",
        "|-|-|-|-|-|\n",
        "| 1 | Fisher’s score, correlation coefficient | RFE, SFS | PCA, kPCA and LDA | SVM |\n",
        "| 3 | SelectKBest | RFE | None | SVM |\n",
        "| 5 | ? |  | None | logistic regression |\n",
        "| 7 | Fisher’s score | ? | None | linear SVM |\n",
        "| 9 | 𝝌² test | PCA | None | SVM |\n",
        "| 11 | ? | RFE | None | logistic regression |\n",
        "| 13 | ✓ | ✓ |  | random forest |\n",
        "| 15 | Manual information | RFE | PCA |  |\n",
        "\n",
        "### Feature Selection Performance\n",
        "\n",
        "| Team | Filter | Wrapper | AdaBoost |\n",
        "|-|-|-|-|\n",
        "| 1 | 51.2% | 52.8% (logistic regression) | 50.8% |\n",
        "| 3 | 79.2% | 82% (linear regression) | 64% (w/ filter: 88%) (w/ wrapper: 77%) |\n",
        "| 5 | 85% |  |  |\n",
        "| 7 | 82.4% | ? | ? |\n",
        "| 9 | 62% | 64% | ? |\n",
        "| 11 | 72% | 82% | 69.8% (63.2% on other inputs) |\n",
        "| 13 | 74% | 77.5% | 74.7% |\n",
        "| 15 | 66.8% | 76% | 76% |\n",
        "\n",
        "## Improving Performance\n",
        "\n",
        "| Team | Base Model | Hyperparameters | Accuracy |\n",
        "|-|-|-|-|\n",
        "| 1 | RESNET18 | batch size, learning rate, learning rate decay, weight decay (hyperopt) | 72% |\n",
        "| 3 | VGG-19 | number of selected features, feature selection | 91.9% (filter), 92.4% (wrapper) |\n",
        "| 5 | ? |  |  |\n",
        "| 7 | VGG16 | Inherited from pretrained model | 75% |\n",
        "| 9 | None | Not stated; no rigorous tuning method; used a two-layer CNN with 50% dropout | 72% |\n",
        "| 11 | None* |  |  |\n",
        "| 13 | VGG16 | Inherited from pretrained model | 72.1% |\n",
        "| 15 | None (CNN) | Number of convolutional layers (3), number of dense layers (3), activation function (ReLU), optimizer (sgd) | 91.6% |\n",
        "\n",
        "*Team 11 proposed to use a CNN as “future work”\n",
        "\n",
        "## Additional Information\n",
        "\n",
        "Team 7\n",
        "* age feature discretized into 4 equal-sized ranges and one-hot encoded\n",
        "* location feature one-hot encoded\n",
        "  * was one of the most discriminative features\n",
        "* randomly rotated images -15 to +15 degrees to vary the dataset\n",
        "* ADAM optimizer, learning rate 0.00001\n",
        "* reached 58% accuracy with LeNet before using VGG\n",
        "\n",
        "Team 15\n",
        "* noted that they may consider flipping the training images to train the model more extensively\n",
        "* concluded that ensemble learning is slow, and that because they took x-ray images straight in and spent a lot of time training the models, it led to extremely accurate results\n",
        "\n",
        "\n"
      ]
    },
    {
      "cell_type": "code",
      "metadata": {
        "id": "BiA0dULd4NTO"
      },
      "source": [
        ""
      ],
      "execution_count": 28,
      "outputs": []
    }
  ]
}