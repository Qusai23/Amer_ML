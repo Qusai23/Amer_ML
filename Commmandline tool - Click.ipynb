{
 "cells": [
  {
   "cell_type": "markdown",
   "metadata": {},
   "source": [
    "# Click"
   ]
  },
  {
   "cell_type": "markdown",
   "metadata": {},
   "source": [
    "Click is a Python package for creating beautiful command line interfaces in a composable way with as little code as necessary. It’s the “Command Line Interface Creation Kit”. It’s highly configurable but comes with sensible defaults out of the box.\n",
    "\n"
   ]
  },
  {
   "cell_type": "markdown",
   "metadata": {},
   "source": [
    "The click module suggests using echo function to print, rather than the standard print function. So, we will make the required change in our code.\n",
    "\n"
   ]
  },
  {
   "cell_type": "code",
   "execution_count": 26,
   "metadata": {},
   "outputs": [
    {
     "name": "stdout",
     "output_type": "stream",
     "text": [
      "Hello Max!\n",
      "Hello Max!\n",
      "Hello Max!\n"
     ]
    }
   ],
   "source": [
    "%%python\n",
    "\n",
    "import sys\n",
    "import click\n",
    "\n",
    "@click.command()\n",
    "@click.option('--count', default=1, help='Number of greetings.')\n",
    "@click.option('--name', prompt='Your name',\n",
    "            help='The person to greet.')\n",
    "def hello(count, name):\n",
    "    \"\"\"Simple program that greets NAME for a total of COUNT times.\"\"\"\n",
    "    with open('echo.txt', 'w') as fobj:\n",
    "        for x in range(count):\n",
    "            click.echo('Hello %s!' % name)\n",
    "\n",
    "if __name__ == '__main__':\n",
    "    # first element is the script name, use empty string instead\n",
    "    sys.argv = ['', '--name', 'Max', '--count', '3']\n",
    "    hello()"
   ]
  },
  {
   "cell_type": "code",
   "execution_count": 28,
   "metadata": {},
   "outputs": [
    {
     "name": "stdout",
     "output_type": "stream",
     "text": [
      "Hello World\n"
     ]
    }
   ],
   "source": [
    "%%python\n",
    "\n",
    "import sys\n",
    "import click\n",
    "@click.command()\n",
    "@click.option('--verbose', is_flag=True, help=\"Will print verbose messages.\")\n",
    "def cli(verbose):\n",
    "    if verbose:\n",
    "        click.echo(\"We are in the verbose mode.\")\n",
    "    click.echo(\"Hello World\")\n",
    "cli()"
   ]
  },
  {
   "cell_type": "code",
   "execution_count": 33,
   "metadata": {},
   "outputs": [],
   "source": [
    "%%python\n",
    "\n",
    "import sys\n",
    "import click\n",
    "\n",
    "@click.command()\n",
    "@click.option('--verbose', is_flag=True, help=\"Will print verbose messages.\")\n",
    "@click.option('--name', default='', help='Who are you?')\n",
    "def cli(verbose,name):\n",
    "    if verbose:\n",
    "        click.echo(\"We are in the verbose mode.\")\n",
    "    click.echo(\"Hello World\")\n",
    "    click.echo('Bye {0}'.format(name))\n",
    "help\n"
   ]
  },
  {
   "cell_type": "code",
   "execution_count": null,
   "metadata": {},
   "outputs": [],
   "source": []
  }
 ],
 "metadata": {
  "kernelspec": {
   "display_name": "Python 3",
   "language": "python",
   "name": "python3"
  },
  "language_info": {
   "codemirror_mode": {
    "name": "ipython",
    "version": 3
   },
   "file_extension": ".py",
   "mimetype": "text/x-python",
   "name": "python",
   "nbconvert_exporter": "python",
   "pygments_lexer": "ipython3",
   "version": "3.7.6"
  }
 },
 "nbformat": 4,
 "nbformat_minor": 4
}
