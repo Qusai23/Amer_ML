{
 "cells": [
  {
   "cell_type": "markdown",
   "metadata": {},
   "source": [
    "# Dictionaries\n"
   ]
  },
  {
   "cell_type": "code",
   "execution_count": 1,
   "metadata": {},
   "outputs": [
    {
     "data": {
      "text/plain": [
       "{1: 'barca', 2: 'real', 3: 'byran'}"
      ]
     },
     "execution_count": 1,
     "metadata": {},
     "output_type": "execute_result"
    }
   ],
   "source": [
    "#Method one\n",
    "\n",
    "Football = {1:'barca',\n",
    "            2:'real',\n",
    "            3:'byran'\n",
    "}\n",
    "\n",
    "Football"
   ]
  },
  {
   "cell_type": "code",
   "execution_count": 7,
   "metadata": {},
   "outputs": [
    {
     "data": {
      "text/plain": [
       "{'o': 'barca', 't': 'real', 'th': 'byran'}"
      ]
     },
     "execution_count": 7,
     "metadata": {},
     "output_type": "execute_result"
    }
   ],
   "source": [
    "#Method Two: use dict\n",
    "\n",
    "Football = dict(o='barca',\n",
    "                t='real',\n",
    "                th='byran'\n",
    "               )\n",
    "Football"
   ]
  },
  {
   "cell_type": "code",
   "execution_count": 14,
   "metadata": {},
   "outputs": [
    {
     "name": "stdout",
     "output_type": "stream",
     "text": [
      "barca is number o\n",
      "real is number t\n",
      "byran is number th\n"
     ]
    }
   ],
   "source": [
    "#Iterate on a dictionary by using the items method\n",
    "Football = dict(o='barca',\n",
    "                t='real',\n",
    "                th='byran'\n",
    "               )\n",
    "for Football, teams in Football.items():\n",
    "    print(f\"{teams} is number {Football}\")\n",
    "   "
   ]
  },
  {
   "cell_type": "code",
   "execution_count": 18,
   "metadata": {},
   "outputs": [
    {
     "name": "stdout",
     "output_type": "stream",
     "text": [
      "these are the keys: dict_keys(['o', 't', 'th'])\n",
      ":these are the values: dict_values(['barca', 'real', 'byran'])\n"
     ]
    }
   ],
   "source": [
    "# Keys vs values\n",
    "Football = dict(o='barca',\n",
    "                t='real',\n",
    "                th='byran'\n",
    "               )\n",
    "print(f\"these are the keys: {Football.keys()}\")\n",
    "print(f\":these are the values: {Football.values()}\")"
   ]
  },
  {
   "cell_type": "code",
   "execution_count": 26,
   "metadata": {},
   "outputs": [
    {
     "name": "stdout",
     "output_type": "stream",
     "text": [
      "ok\n"
     ]
    }
   ],
   "source": [
    "# Show membership\n",
    "Football = dict(o='barca',\n",
    "                t='real',\n",
    "                th='byran'\n",
    "               )\n",
    "if \"o\" in Football:\n",
    "    print(\"ok\")"
   ]
  },
  {
   "cell_type": "markdown",
   "metadata": {},
   "source": [
    "# More on lists"
   ]
  },
  {
   "cell_type": "code",
   "execution_count": null,
   "metadata": {},
   "outputs": [],
   "source": [
    "#List comperhension: creats a list\n",
    "Football = ['barca','real']\n",
    "\n",
    "\n"
   ]
  }
 ],
 "metadata": {
  "kernelspec": {
   "display_name": "Python 3",
   "language": "python",
   "name": "python3"
  },
  "language_info": {
   "codemirror_mode": {
    "name": "ipython",
    "version": 3
   },
   "file_extension": ".py",
   "mimetype": "text/x-python",
   "name": "python",
   "nbconvert_exporter": "python",
   "pygments_lexer": "ipython3",
   "version": "3.7.6"
  }
 },
 "nbformat": 4,
 "nbformat_minor": 4
}
