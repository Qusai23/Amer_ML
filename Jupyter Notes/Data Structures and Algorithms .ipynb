{
 "cells": [
  {
   "cell_type": "markdown",
   "metadata": {},
   "source": [
    "###  Algorithms and Data Structures \n",
    "\n",
    "#### 1- Tuples "
   ]
  },
  {
   "cell_type": "code",
   "execution_count": 1,
   "metadata": {},
   "outputs": [
    {
     "data": {
      "text/plain": [
       "(1, 2, 3, 4, 5, 6)"
      ]
     },
     "execution_count": 1,
     "metadata": {},
     "output_type": "execute_result"
    }
   ],
   "source": [
    "(1,2,3) + (4,5,6)"
   ]
  },
  {
   "cell_type": "code",
   "execution_count": 2,
   "metadata": {},
   "outputs": [
    {
     "data": {
      "text/plain": [
       "(1, 2, 3, 1, 2, 3, 1, 2, 3, 1, 2, 3)"
      ]
     },
     "execution_count": 2,
     "metadata": {},
     "output_type": "execute_result"
    }
   ],
   "source": [
    "(1,2,3)*4"
   ]
  },
  {
   "cell_type": "code",
   "execution_count": 3,
   "metadata": {},
   "outputs": [
    {
     "data": {
      "text/plain": [
       "False"
      ]
     },
     "execution_count": 3,
     "metadata": {},
     "output_type": "execute_result"
    }
   ],
   "source": [
    "4 in (2,5,1,5)"
   ]
  },
  {
   "cell_type": "markdown",
   "metadata": {},
   "source": [
    "#### 2- Dictionaries"
   ]
  },
  {
   "cell_type": "code",
   "execution_count": 13,
   "metadata": {},
   "outputs": [
    {
     "data": {
      "text/plain": [
       "'writting'"
      ]
     },
     "execution_count": 13,
     "metadata": {},
     "output_type": "execute_result"
    }
   ],
   "source": [
    "dict = {\"Name\":\"Qusai\", \"Age\":24, \"Goal\": \"To be a billionare\"}\n",
    "dict['Age']\n",
    "\n",
    "#add new element \n",
    "dict[\"skills\"]=\"writting\"\n",
    "dict[\"Age\"] = 8\n",
    "dict[\"skills\"]"
   ]
  },
  {
   "cell_type": "code",
   "execution_count": 14,
   "metadata": {},
   "outputs": [
    {
     "data": {
      "text/plain": [
       "{'Age': 8, 'Goal': 'To be a billionare', 'skills': 'writting'}"
      ]
     },
     "execution_count": 14,
     "metadata": {},
     "output_type": "execute_result"
    }
   ],
   "source": [
    "del dict['Name']\n",
    "dict"
   ]
  },
  {
   "cell_type": "code",
   "execution_count": null,
   "metadata": {},
   "outputs": [],
   "source": [
    "---------Define Default Values in Dictionaries With .get() and .setdefault()"
   ]
  },
  {
   "cell_type": "markdown",
   "metadata": {},
   "source": [
    "#### 3-2D Array"
   ]
  },
  {
   "cell_type": "code",
   "execution_count": 23,
   "metadata": {},
   "outputs": [
    {
     "name": "stdout",
     "output_type": "stream",
     "text": [
      "1\n",
      "2\n",
      "3\n",
      "3\n",
      "2\n",
      "1\n",
      "3\n",
      "4\n",
      "5\n",
      "4\n",
      "5\n",
      "6\n"
     ]
    },
    {
     "data": {
      "text/plain": [
       "[[1, 1, 1, 1], [1, 2, 3], [3, 2, 1], [3, 4, 5], [4, 5, 6]]"
      ]
     },
     "execution_count": 23,
     "metadata": {},
     "output_type": "execute_result"
    }
   ],
   "source": [
    "X = [[1,2,3],[3,2,1],[3,4,5],[4,5,6]]\n",
    "\n",
    "for i in X:\n",
    "    for j in i:\n",
    "        print (j)\n",
    "X.insert(0,[1,1,1,1])\n",
    "X"
   ]
  },
  {
   "cell_type": "markdown",
   "metadata": {},
   "source": [
    "#### 4- Matrix"
   ]
  },
  {
   "cell_type": "code",
   "execution_count": 68,
   "metadata": {},
   "outputs": [
    {
     "name": "stdout",
     "output_type": "stream",
     "text": [
      "(7, 5)\n",
      "(1, 35)\n"
     ]
    },
    {
     "data": {
      "text/plain": [
       "array([['Mon', '18', '20', '22', '17'],\n",
       "       ['Tue', '11', '18', '21', '18'],\n",
       "       ['Wed', '15', '21', '20', '19'],\n",
       "       ['Thu', '11', '20', '22', '21'],\n",
       "       ['Fri', '18', '17', '23', '22'],\n",
       "       ['Sat', '12', '22', '20', '18'],\n",
       "       ['Sun', '13', '15', '19', '16'],\n",
       "       ['new', '13', '15', '19', '16']], dtype='<U3')"
      ]
     },
     "execution_count": 68,
     "metadata": {},
     "output_type": "execute_result"
    }
   ],
   "source": [
    "import numpy \n",
    "\n",
    "from numpy import * \n",
    "a = array([['Mon',18,20,22,17],['Tue',11,18,21,18],\n",
    "\t\t   ['Wed',15,21,20,19],['Thu',11,20,22,21],\n",
    "\t\t   ['Fri',18,17,23,22],['Sat',12,22,20,18],\n",
    "\t\t   ['Sun',13,15,19,16]])\n",
    "    \n",
    "print(shape(a))\n",
    "m = reshape(a,(1,35))\n",
    "print(shape(m))\n",
    "\n",
    "#add row\n",
    "b = a.tolist()\n",
    "b.append([\"new\",13,15,19,16])\n",
    "numpy.asarray(b)\n",
    "# print(a)\n",
    "# array(a)\n",
    "# shape(a)\n",
    "# .append([\"new\",13,15,19,16])"
   ]
  },
  {
   "cell_type": "code",
   "execution_count": 73,
   "metadata": {},
   "outputs": [
    {
     "data": {
      "text/plain": [
       "['Fri', '18', '17', '23', '22']"
      ]
     },
     "execution_count": 73,
     "metadata": {},
     "output_type": "execute_result"
    }
   ],
   "source": [
    "c = b.pop(2)\n",
    "c"
   ]
  },
  {
   "cell_type": "markdown",
   "metadata": {},
   "source": [
    "#### 4- Sets"
   ]
  },
  {
   "cell_type": "code",
   "execution_count": 74,
   "metadata": {},
   "outputs": [
    {
     "name": "stdout",
     "output_type": "stream",
     "text": [
      "{'Wed'}\n"
     ]
    }
   ],
   "source": [
    "DaysA = set([\"Mon\",\"Tue\",\"Wed\"])\n",
    "DaysB = set([\"Wed\",\"Thu\",\"Fri\",\"Sat\",\"Sun\"])\n",
    "#intersection\n",
    "AllDays = DaysA & DaysB\n",
    "print(AllDays)\n",
    "\n",
    "# add vs discard"
   ]
  },
  {
   "cell_type": "markdown",
   "metadata": {},
   "source": [
    "#### 5- Maps\n",
    "\n",
    "Why\n",
    "\n",
    "1- Manage multiple dictionaries together as one unit.\n",
    "\n",
    "2- Search through multiple dictionaries at a time and get the proper key-value pair mapping.\n",
    "\n",
    "3- Also see that these ChainMaps behave as stack data structure."
   ]
  },
  {
   "cell_type": "code",
   "execution_count": 84,
   "metadata": {},
   "outputs": [
    {
     "name": "stdout",
     "output_type": "stream",
     "text": [
      "Keys = ['day3', 'day1', 'day2']\n",
      "Values = ['Wed', 'Mon', 'Tue']\n",
      "elements:\n",
      "day3 = Wed\n",
      "day1 = Mon\n",
      "day2 = Tue\n",
      "\n"
     ]
    }
   ],
   "source": [
    "import collections\n",
    "\n",
    "dict1 = {'day1': 'Mon', 'day2': 'Tue'}\n",
    "dict2 = {'day3': 'Wed', 'day1': 'Thu'}\n",
    "\n",
    "res = collections.ChainMap(dict1, dict2) \n",
    "res\n",
    "print('Keys = {}'.format(list(res.keys())))\n",
    "print('Values = {}'.format(list(res.values())))\n",
    "\n",
    "\n",
    "# Print all the elements from the result\n",
    "print('elements:')\n",
    "for key, val in res.items():\n",
    "    print('{} = {}'.format(key, val))\n",
    "print()\n"
   ]
  },
  {
   "cell_type": "markdown",
   "metadata": {},
   "source": [
    "#### Easy way to read hackerrank input\n",
    "import sys\n",
    "s = sys.stdin.read()\n",
    "#print(s)\n"
   ]
  },
  {
   "cell_type": "code",
   "execution_count": 119,
   "metadata": {},
   "outputs": [
    {
     "name": "stdout",
     "output_type": "stream",
     "text": [
      "sam = 99912222\n",
      "Not found\n",
      "harry = 12299933\n"
     ]
    }
   ],
   "source": [
    "############## Practice Dicts & Maps ############\n",
    "import sys\n",
    "from collections import Counter\n",
    "\n",
    "slist = ['3', 'sam', '99912222', 'tom', '11122222', 'harry', '12299933', 'sam', 'edward', 'harry']\n",
    "newDict = Counter()\n",
    "\n",
    "for i in range(1, len(slist)):\n",
    "    \n",
    "    if i <= len(slist)-2:\n",
    "    \n",
    "        if slist[i][0].isalpha() and not slist[i+1][0].isalpha():\n",
    "            newDict[slist[i]] = slist[i+1]\n",
    "        if slist[i][0].isalpha() and slist[i+1][0].isalpha():\n",
    "            if newDict[slist[i]]:\n",
    "                print(f\"{slist[i]} = {newDict[slist[i]]}\")\n",
    "            else:\n",
    "                print(\"Not found\")\n",
    "    else:\n",
    "        if newDict[slist[i]]:\n",
    "            print(f\"{slist[i]} = {newDict[slist[i]]}\")\n",
    "        else:\n",
    "                print(\"Not found\")\n",
    "        \n",
    "            \n",
    "    \n",
    "# print(newDict)"
   ]
  },
  {
   "cell_type": "code",
   "execution_count": 120,
   "metadata": {
    "scrolled": true
   },
   "outputs": [
    {
     "name": "stdout",
     "output_type": "stream",
     "text": [
      "3 sam 99912222 tom 11122222 harry 12299933 sam edward harry\n"
     ]
    },
    {
     "ename": "ValueError",
     "evalue": "invalid literal for int() with base 10: '3 sam 99912222 tom 11122222 harry 12299933 sam edward harry'",
     "output_type": "error",
     "traceback": [
      "\u001b[0;31m---------------------------------------------------------------------------\u001b[0m",
      "\u001b[0;31mValueError\u001b[0m                                Traceback (most recent call last)",
      "\u001b[0;32m<ipython-input-120-41a73d2163e4>\u001b[0m in \u001b[0;36m<module>\u001b[0;34m\u001b[0m\n\u001b[1;32m      2\u001b[0m \u001b[0;34m\u001b[0m\u001b[0m\n\u001b[1;32m      3\u001b[0m \u001b[0;34m\u001b[0m\u001b[0m\n\u001b[0;32m----> 4\u001b[0;31m \u001b[0mnum\u001b[0m\u001b[0;34m=\u001b[0m\u001b[0mint\u001b[0m\u001b[0;34m(\u001b[0m\u001b[0minput\u001b[0m\u001b[0;34m(\u001b[0m\u001b[0;34m)\u001b[0m\u001b[0;34m)\u001b[0m\u001b[0;34m\u001b[0m\u001b[0;34m\u001b[0m\u001b[0m\n\u001b[0m\u001b[1;32m      5\u001b[0m \u001b[0mphoneBook\u001b[0m\u001b[0;34m=\u001b[0m\u001b[0;34m{\u001b[0m\u001b[0;34m}\u001b[0m\u001b[0;34m\u001b[0m\u001b[0;34m\u001b[0m\u001b[0m\n\u001b[1;32m      6\u001b[0m \u001b[0;34m\u001b[0m\u001b[0m\n",
      "\u001b[0;31mValueError\u001b[0m: invalid literal for int() with base 10: '3 sam 99912222 tom 11122222 harry 12299933 sam edward harry'"
     ]
    }
   ],
   "source": [
    "####OR######\n",
    "\n",
    "\n",
    "num=int(input())\n",
    "phoneBook={}\n",
    " \n",
    "for i in range(0,num):\n",
    "    data=str(input()).split(' ')\n",
    "    name=data[0]\n",
    "    index=int(data[1])\n",
    "    phoneBook[name]=index\n",
    " \n",
    "while True: \n",
    "    try: #read until there is no query\n",
    "        name=str(input()) \n",
    "        if name in phoneBook:\n",
    "            print('{}={}'.format(name,phoneBook[name])) \n",
    "        else: \n",
    "            print('Not found') \n",
    "    except:\n",
    "        break # quit()\n"
   ]
  },
  {
   "cell_type": "markdown",
   "metadata": {},
   "source": [
    "#### Linked list"
   ]
  },
  {
   "cell_type": "markdown",
   "metadata": {},
   "source": [
    "Linked list are similar to arrays but cannot be index. Starts from head and link to next elements, last element is NONE. It has a constant time for inserting at the begining and deleting at the end. It is heavily used to build stacks and queques. "
   ]
  },
  {
   "cell_type": "code",
   "execution_count": null,
   "metadata": {},
   "outputs": [],
   "source": [
    "#LL to mun        \n",
    "        l=[]\n",
    "        number = 0\n",
    "        while head != None:\n",
    "            # print(head.val)\n",
    "            l+= [head.val]\n",
    "            head.val = head.next\n",
    "            head = head.next\n",
    "        l = l [::-1]\n",
    "        \n",
    "        for i, b in enumerate(l):\n",
    "\n",
    "            number += b*2**i \n",
    "            # print number\n",
    "        return number"
   ]
  },
  {
   "cell_type": "markdown",
   "metadata": {},
   "source": [
    "##### Q1: Add the two numbers and return the sum as a linked list."
   ]
  },
  {
   "cell_type": "code",
   "execution_count": 130,
   "metadata": {},
   "outputs": [
    {
     "ename": "SyntaxError",
     "evalue": "invalid syntax (<ipython-input-130-c8fe7fb277bc>, line 7)",
     "output_type": "error",
     "traceback": [
      "\u001b[0;36m  File \u001b[0;32m\"<ipython-input-130-c8fe7fb277bc>\"\u001b[0;36m, line \u001b[0;32m7\u001b[0m\n\u001b[0;31m    def\u001b[0m\n\u001b[0m        ^\u001b[0m\n\u001b[0;31mSyntaxError\u001b[0m\u001b[0;31m:\u001b[0m invalid syntax\n"
     ]
    }
   ],
   "source": [
    "class Node(object):\n",
    "    def __int__(self,val = 0, next=None):\n",
    "        self.val = val\n",
    "        self.next = next\n",
    "\n",
    "class Solution(object):\n",
    "    def \n",
    "    \n",
    "    "
   ]
  },
  {
   "cell_type": "code",
   "execution_count": 137,
   "metadata": {},
   "outputs": [
    {
     "name": "stdout",
     "output_type": "stream",
     "text": [
      "The linked list: 0 1 2 "
     ]
    }
   ],
   "source": [
    "class Node:\n",
    "    def __init__(self, data):\n",
    "       self.data = data\n",
    "       self.next = None\n",
    " \n",
    "class LinkedList:\n",
    "    def __init__(self):\n",
    "        self.head = None\n",
    "        self.last_node = None\n",
    " \n",
    "    def append(self, data):\n",
    "        if self.last_node is None:\n",
    "            self.head = Node(data)\n",
    "            self.last_node = self.head\n",
    "        else:\n",
    "            self.last_node.next = Node(data)\n",
    "            self.last_node = self.last_node.next\n",
    " \n",
    "    def display(self):\n",
    "        current = self.head\n",
    "        while current is not None:\n",
    "            print(current.data, end = ' ')\n",
    "            current = current.next\n",
    " \n",
    "n = [5,3,1]\n",
    "ll = LinkedList()\n",
    "for v, i in enumerate(n):\n",
    "    ll.append(v)\n",
    "print('The linked list: ', end = '')\n",
    "ll.display()"
   ]
  },
  {
   "cell_type": "markdown",
   "metadata": {},
   "source": [
    "#### Q2: Convert Binary number in linked list to integer\n",
    "formula for converting binary to integer : sum(binarynumber[i] * 2^i)\n"
   ]
  },
  {
   "cell_type": "code",
   "execution_count": 138,
   "metadata": {},
   "outputs": [
    {
     "ename": "NameError",
     "evalue": "name 'head' is not defined",
     "output_type": "error",
     "traceback": [
      "\u001b[0;31m---------------------------------------------------------------------------\u001b[0m",
      "\u001b[0;31mNameError\u001b[0m                                 Traceback (most recent call last)",
      "\u001b[0;32m<ipython-input-138-a93ea9a1cdf2>\u001b[0m in \u001b[0;36m<module>\u001b[0;34m\u001b[0m\n\u001b[1;32m      1\u001b[0m \u001b[0ml\u001b[0m\u001b[0;34m=\u001b[0m\u001b[0;34m[\u001b[0m\u001b[0;34m]\u001b[0m\u001b[0;34m\u001b[0m\u001b[0;34m\u001b[0m\u001b[0m\n\u001b[1;32m      2\u001b[0m \u001b[0mnumber\u001b[0m \u001b[0;34m=\u001b[0m \u001b[0;36m0\u001b[0m\u001b[0;34m\u001b[0m\u001b[0;34m\u001b[0m\u001b[0m\n\u001b[0;32m----> 3\u001b[0;31m \u001b[0;32mwhile\u001b[0m \u001b[0mhead\u001b[0m \u001b[0;34m!=\u001b[0m \u001b[0;32mNone\u001b[0m\u001b[0;34m:\u001b[0m\u001b[0;34m\u001b[0m\u001b[0;34m\u001b[0m\u001b[0m\n\u001b[0m\u001b[1;32m      4\u001b[0m     \u001b[0;31m# print(head.val)\u001b[0m\u001b[0;34m\u001b[0m\u001b[0;34m\u001b[0m\u001b[0;34m\u001b[0m\u001b[0m\n\u001b[1;32m      5\u001b[0m     \u001b[0ml\u001b[0m\u001b[0;34m+=\u001b[0m \u001b[0;34m[\u001b[0m\u001b[0mhead\u001b[0m\u001b[0;34m.\u001b[0m\u001b[0mval\u001b[0m\u001b[0;34m]\u001b[0m\u001b[0;34m\u001b[0m\u001b[0;34m\u001b[0m\u001b[0m\n",
      "\u001b[0;31mNameError\u001b[0m: name 'head' is not defined"
     ]
    }
   ],
   "source": [
    "        l=[]\n",
    "        number = 0\n",
    "        while head != None:\n",
    "            # print(head.val)\n",
    "            l+= [head.val]\n",
    "            head.val = head.next\n",
    "            head = head.next\n",
    "        l = l [::-1]\n",
    "        \n",
    "        for i, b in enumerate(l):\n",
    "\n",
    "            number += b*2**i \n",
    "            # print number\n",
    "        return number"
   ]
  },
  {
   "cell_type": "markdown",
   "metadata": {},
   "source": [
    "#### Swapping Nodes in a Linked List"
   ]
  },
  {
   "cell_type": "code",
   "execution_count": 139,
   "metadata": {},
   "outputs": [
    {
     "data": {
      "text/plain": [
       "[2, 5, 5]"
      ]
     },
     "execution_count": 139,
     "metadata": {},
     "output_type": "execute_result"
    }
   ],
   "source": [
    "# Idea: \n",
    "    \n",
    "#     I can easily do this converting everything to array\n",
    "\n",
    "x = [2,4,5]\n",
    "x[1] = 5\n",
    "x"
   ]
  },
  {
   "cell_type": "markdown",
   "metadata": {},
   "source": [
    "#### Hash Tables"
   ]
  },
  {
   "cell_type": "code",
   "execution_count": null,
   "metadata": {},
   "outputs": [],
   "source": [
    "        values = [i+1 for i in range(len(nums))]\n",
    "        hash = {k:v for k, v in zip(nums, values)}\n",
    "        print(hash)\n",
    "        sum = 0\n",
    "        for i in nums:\n",
    "            print(hash[i])\n",
    "\n",
    "            if hash[i] == i:\n",
    "                sum += i\n",
    "        return sum\n",
    "        \n",
    "        "
   ]
  },
  {
   "cell_type": "code",
   "execution_count": null,
   "metadata": {},
   "outputs": [],
   "source": [
    "######OR \n",
    "\n",
    "from collections import Counter\n",
    "class Solution(object):\n",
    "    def sumOfUnique(self, nums):\n",
    "\n",
    "        hash = Counter(nums)\n",
    "        print(hash)\n",
    "        sum = 0\n",
    "        for i,v in enumerate(nums):\n",
    "            print(hash[v])\n",
    "            if hash[v] == 1:\n",
    "                sum += v\n",
    "        return sum\n",
    "            "
   ]
  },
  {
   "cell_type": "code",
   "execution_count": null,
   "metadata": {},
   "outputs": [],
   "source": [
    "#########Faster \n",
    "\n",
    "class Solution:\n",
    "    def sumOfUnique(self, nums: List[int]) -> int:\n",
    "        hashmap = {}\n",
    "        for i in nums:\n",
    "            if i in hashmap.keys():\n",
    "                hashmap[i] += 1\n",
    "            else:\n",
    "                hashmap[i] = 1\n",
    "        sum = 0\n",
    "        for k, v in hashmap.items():\n",
    "            if v == 1: sum += k\n",
    "        return sum\n",
    "    \n",
    "######## My\n",
    "        hash = {}\n",
    "        \n",
    "        for i,v in enumerate(nums):\n",
    "            if v in hash.keys():\n",
    "                hash[v] += 1\n",
    "            else:\n",
    "                hash[v] = 1\n",
    "        \n",
    "        return sum(k for k,v in hash.items() if v==1)"
   ]
  },
  {
   "cell_type": "code",
   "execution_count": null,
   "metadata": {},
   "outputs": [],
   "source": [
    "#Maximum Depth of N-ary Tree\n",
    "\n",
    "def maxDepth(self, root: 'Node') -> int:\n",
    "        # Base case\n",
    "        if root == None:\n",
    "            return 0\n",
    "        # Depth level of the tree\n",
    "        depth = 0\n",
    "        \n",
    "        # Loops through children array\n",
    "        for child in root.children:\n",
    "            # Compares current depth of depth with a new level of depth \n",
    "            # Sets the biggest value to variable depth\n",
    "            depth = max(depth, self.maxDepth(child))\n",
    "        \n",
    "        # As going deeper into the tree increases depth by 1\n",
    "        print ('root ' + str(root.val) + ' depth ' + str(depth + 1))\n",
    "        return depth + 1 "
   ]
  },
  {
   "cell_type": "code",
   "execution_count": null,
   "metadata": {},
   "outputs": [],
   "source": [
    "###Cousins in Binary Tree\n",
    "    def isCousins(self, root: TreeNode, x: int, y: int) -> bool:\n",
    "        stack = [(root,0,None)]\n",
    "        x_level, y_level = -1, -2\n",
    "        while stack:\n",
    "            node, level, parent = stack.pop()\n",
    "            if node:\n",
    "                if node.val == x:\n",
    "                    x_level = (level,parent)\n",
    "                elif node.val == y:\n",
    "                    y_level = (level, parent)\n",
    "\n",
    "                stack.append((node.left, level+1, node))\n",
    "                stack.append((node.right, level+1, node))\n",
    "\n",
    "        return x_level[0] == y_level[0] and not x_level[1] == y_level[1]\n",
    "\n",
    "    \n",
    "    ##BFS\n",
    "        def isCousins(self, root: TreeNode, x: int, y: int) -> bool:\n",
    "        res, stk = [], root and [root]\n",
    "        while stk:\n",
    "            p = {c.val:node.val for node in stk for c in (node.left,node.right) if c}\n",
    "            stk = [child for node in stk for child in (node.left,node.right) if child]\n",
    "            if x in p and y in p and p[x] != p[y]: return True\n",
    "        return False"
   ]
  },
  {
   "cell_type": "code",
   "execution_count": null,
   "metadata": {},
   "outputs": [],
   "source": []
  }
 ],
 "metadata": {
  "kernelspec": {
   "display_name": "Python 3",
   "language": "python",
   "name": "python3"
  },
  "language_info": {
   "codemirror_mode": {
    "name": "ipython",
    "version": 3
   },
   "file_extension": ".py",
   "mimetype": "text/x-python",
   "name": "python",
   "nbconvert_exporter": "python",
   "pygments_lexer": "ipython3",
   "version": "3.7.6"
  }
 },
 "nbformat": 4,
 "nbformat_minor": 4
}
